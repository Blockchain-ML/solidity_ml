{
 "cells": [
  {
   "cell_type": "code",
   "execution_count": 8,
   "metadata": {},
   "outputs": [
    {
     "name": "stdout",
     "output_type": "stream",
     "text": [
      "55571,This is the number of lines in the file\n",
      "11\n",
      "55565,This is the number of lines in the file\n",
      "109\n",
      "55567,This is the number of lines in the file\n",
      "155\n",
      "55016,This is the number of lines in the file\n",
      "88\n"
     ]
    }
   ],
   "source": [
    "import sys\n",
    "import glob\n",
    "import os.path\n",
    "\n",
    "list_of_files = glob.glob(r\"/home/supriya/pathcontext/temp/*.sol\") \n",
    "for file_name in list_of_files:\n",
    "    filename=os.path.splitext(os.path.basename(file_name))[0]\n",
    "#     print(filename)\n",
    "    file = open(file_name,\"r\")\n",
    "    Counter = 0\n",
    "\n",
    "    # Reading from file\n",
    "    Content = file.read()\n",
    "    CoList = Content.split(\"\\n\")\n",
    "\n",
    "    for i in CoList:\n",
    "        if i:\n",
    "            Counter += 1\n",
    "\n",
    "    print(f\"{filename}\"+','+\"This is the number of lines in the file\")\n",
    "    print(Counter)"
   ]
  },
  {
   "cell_type": "code",
   "execution_count": 24,
   "metadata": {},
   "outputs": [
    {
     "name": "stdout",
     "output_type": "stream",
     "text": [
      "55571,This is the number of lines in the file\n",
      "11\n",
      "55565,This is the number of lines in the file\n",
      "109\n",
      "55567,This is the number of lines in the file\n",
      "155\n",
      "55016,This is the number of lines in the file\n",
      "88\n"
     ]
    }
   ],
   "source": [
    "import sys\n",
    "import glob\n",
    "import os.path\n",
    "\n",
    "list_of_files = glob.glob(r\"/home/supriya/pathcontext/temp/*.sol\") \n",
    "for file_name in list_of_files:\n",
    "    \n",
    "    \n",
    "    def length_of_code(file_name):\n",
    "        filename=os.path.splitext(os.path.basename(file_name))[0]\n",
    "        file = open(file_name,\"r\")\n",
    "        length_code = 0\n",
    "\n",
    "        # Reading from file\n",
    "        Content = file.read()\n",
    "        CoList = Content.split(\"\\n\")\n",
    "\n",
    "        for i in CoList:\n",
    "            if i:\n",
    "                length_code += 1\n",
    "\n",
    "        print(f\"{filename}\"+','+\"This is the number of lines in the file\")\n",
    "#         print(length_code)\n",
    "        return (length_code)\n",
    "    LOC = length_of_code(file_name)\n",
    "    print(str(LOC))\n",
    "# print(length_code)   "
   ]
  },
  {
   "cell_type": "code",
   "execution_count": 25,
   "metadata": {},
   "outputs": [
    {
     "name": "stdout",
     "output_type": "stream",
     "text": [
      "2\n",
      "pragma solidity ^0.7.6;\n",
      "contract foo {\n",
      "function foo1(x){\n",
      "\tfor (int i=1;i<=10;i++)\n",
      "\t\tx=x-1;\n",
      "\treturn x;\n",
      "}\n",
      "function foo2(){\n",
      "\ty=y+z;\n",
      "\tx=y/foo1(z);\n",
      "}\n",
      "}\n",
      "\n"
     ]
    }
   ],
   "source": [
    "import numpy as np\n",
    "import pandas as pd\n",
    "import csv\n",
    "import os\n",
    "import sys\n",
    "import re\n",
    "import sys\n",
    "import glob\n",
    "import os.path\n",
    "path1=(r\"/home/supriya/CDP_MIT/empty_lines\")\n",
    "list_of_files = glob.glob(r\"/home/supriya/vovak-astminer-81edc8e/testData/examples/solidity/*.sol\") \n",
    "\n",
    "for file_name in list_of_files:\n",
    "    #print(file_name)\n",
    "    filename=os.path.splitext(os.path.basename(file_name))[0]\n",
    "    #print(filename)\n",
    "    file=filename.split('_')\n",
    "    #print(file)\n",
    "    ID=file[-1]\n",
    "    print(str(ID))\n",
    "    f= open(file_name, 'r', encoding=\"iso-8859-1\")\n",
    "    data = f.read()\n",
    "    #print(type(f))\n",
    "    string_with_empty_lines=str(data)\n",
    "    lines = string_with_empty_lines.split(\"\\n\")\n",
    "    non_empty_lines = [line for line in lines if line.strip() != \"\"]\n",
    "    string_wdout_emptylines = \"\"\n",
    "    for line in non_empty_lines:\n",
    "          string_wdout_emptylines += line + \"\\n\"\n",
    "    print( string_wdout_emptylines)\n",
    "    with open(path1+'/'+str(ID)+'.sol','w',encoding=\"iso-8859-1\") as fp1:\n",
    "        #print(sol)\n",
    "        fp1.write(string_wdout_emptylines)\n",
    "f.close()"
   ]
  },
  {
   "cell_type": "code",
   "execution_count": null,
   "metadata": {},
   "outputs": [],
   "source": []
  }
 ],
 "metadata": {
  "kernelspec": {
   "display_name": "Python 3",
   "language": "python",
   "name": "python3"
  },
  "language_info": {
   "codemirror_mode": {
    "name": "ipython",
    "version": 3
   },
   "file_extension": ".py",
   "mimetype": "text/x-python",
   "name": "python",
   "nbconvert_exporter": "python",
   "pygments_lexer": "ipython3",
   "version": "3.7.2"
  }
 },
 "nbformat": 4,
 "nbformat_minor": 4
}
