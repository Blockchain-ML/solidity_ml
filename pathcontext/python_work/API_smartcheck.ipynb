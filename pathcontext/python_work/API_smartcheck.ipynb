{
 "cells": [
  {
   "cell_type": "code",
   "execution_count": null,
   "metadata": {},
   "outputs": [],
   "source": [
    "import sys\n",
    "import glob\n",
    "import os.path\n",
    "\n",
    "list_of_files = glob.glob(r\"/home/supriya/pathcontext/smartcheck_label/*.txt\") \n",
    "\n",
    "errors1 = ['SOLIDITY_ARRAY_LENGTH_MANIPULATION ', 'SOLIDITY_GAS_LIMIT_IN_LOOPS ','SOLIDITY_CALL_WITHOUT_DATA ',\n",
    "          'SOLIDITY_INCORRECT_BLOCKHASH ', 'SOLIDITY_TX_ORIGIN ','SOLIDITY_ADDRESS_HARDCODED ', 'SOLIDITY_BALANCE_EQUALITY ',\n",
    "          'SOLIDITY_ERC20_FUNCTIONS_ALWAYS_RETURN_FALSE ','SOLIDITY_LOCKED_MONEY ', 'SOLIDITY_EXACT_TIME ',\n",
    "          'SOLIDITY_REDUNDANT_FALLBACK_REJECT ', 'SOLIDITY_REVERT_REQUIRE ','SOLIDITY_SHOULD_RETURN_STRUCT ',\n",
    "          'SOLIDITY_DEPRECATED_CONSTRUCTIONS ', 'SOLIDITY_EXTRA_GAS_IN_LOOPS ',\n",
    "          'SOLIDITY_OVERPOWERED_ROLE ', 'SOLIDITY_SEND ', 'SOLIDITY_TRANSFER_IN_LOOP ']\n",
    "errors = ['SOLIDITY_ARRAY_LENGTH_MANIPULATION ', 'SOLIDITY_GAS_LIMIT_IN_LOOPS ','SOLIDITY_CALL_WITHOUT_DATA ',\n",
    "          'SOLIDITY_INCORRECT_BLOCKHASH ', 'SOLIDITY_TX_ORIGIN ','SOLIDITY_ADDRESS_HARDCODED ', 'SOLIDITY_BALANCE_EQUALITY ',\n",
    "          'SOLIDITY_ERC20_FUNCTIONS_ALWAYS_RETURN_FALSE ','SOLIDITY_LOCKED_MONEY ', 'SOLIDITY_EXACT_TIME ',\n",
    "          'SOLIDITY_REDUNDANT_FALLBACK_REJECT ', 'SOLIDITY_REVERT_REQUIRE ','SOLIDITY_SHOULD_RETURN_STRUCT ',\n",
    "          'SOLIDITY_DEPRECATED_CONSTRUCTIONS ', 'SOLIDITY_EXTRA_GAS_IN_LOOPS ',\n",
    "          'SOLIDITY_OVERPOWERED_ROLE ', 'SOLIDITY_SEND ', 'SOLIDITY_TRANSFER_IN_LOOP ','SOLIDITY_REENTRANCY_EXTERNAL_CALL ']\n",
    "\n",
    "for file_name in list_of_files:\n",
    "    #print(file_name)\n",
    "    filename=os.path.splitext(os.path.basename(file_name))[0]\n",
    "    #print(filename)\n",
    "    file=filename.split('_')\n",
    "    #print(file)\n",
    "    ID=file[-1]\n",
    "    print(str(ID))\n",
    "    # This needs to be done *inside the loop*\n",
    "    f= open(file_name, 'r')\n",
    "    #print(f.read())\n",
    "    \n",
    "    error_list=[]\n",
    "    for line in f:\n",
    "         if line.startswith('SOLIDITY_'):\n",
    "                X=line\n",
    "                #print(X)\n",
    "                s1=X.rstrip().split(':')\n",
    "                v1=s1[:1]\n",
    "                #print(v1)\n",
    "                v2=v1[0]\n",
    "                error_list.append(v2)\n",
    "    #print(error_list)\n",
    "    res = [sub for sub in error_list if sub in errors ] \n",
    "    val=str(res)\n",
    "    #print('Matched_error:'+val)\n",
    "    def generate_error_label(error_list):\n",
    "        #print('hi')\n",
    "        error_label = ['0'] * len(errors)\n",
    "        for error in error_list:\n",
    "#             print(error)\n",
    "            found= error in errors\n",
    "\n",
    "            if(found):\n",
    "                #print(found)\n",
    "                pos = errors.index(error)\n",
    "                error_label[pos] = '1'\n",
    "        return ''.join(error_label)\n",
    "        \n",
    "    #print(str(generate_error_label(error_list))) \n",
    "#     savefile = open(r'/home/supriya/pathcontext/61k_Error_label2.txt', 'a')\n",
    "#     savefile.write(str(ID)+\",\"+str(filename)+ ',' +str(generate_error_label(error_list))+'\\n')\n",
    "#     savefile.close()\n",
    "#     f.close()\n",
    "\n"
   ]
  },
  {
   "cell_type": "code",
   "execution_count": null,
   "metadata": {},
   "outputs": [],
   "source": [
    "import pandas as pd\n",
    "sol_data= pd.read_csv(r\"C:\\Users\\hp\\Code\\61k.csv\")\n",
    "\n",
    "print(sol_data)"
   ]
  },
  {
   "cell_type": "code",
   "execution_count": null,
   "metadata": {},
   "outputs": [],
   "source": [
    "import pandas as pd\n",
    "sol_data= pd.read_csv(r\"C:\\Users\\hp\\Code\\61k.csv\")\n",
    "labell=sol_data['label']\n",
    "ID=sol_data['_id']\n",
    "#print(labell)\n",
    "for i in range(0, len(ID)):\n",
    "    _label=str(labell[i])\n",
    "    \n",
    "    _label=_label.split()\n",
    "    print(_label)"
   ]
  },
  {
   "cell_type": "code",
   "execution_count": null,
   "metadata": {},
   "outputs": [],
   "source": [
    "import pandas as pd\n",
    "sol_data= pd.read_csv(r\"C:\\Users\\hp\\Code\\61k.csv\")\n",
    "sol_data.sum(axis = 0, skipna = True)"
   ]
  },
  {
   "cell_type": "code",
   "execution_count": null,
   "metadata": {},
   "outputs": [],
   "source": [
    "import pandas as pd\n",
    "sol_data= pd.read_csv(r\"C:\\Users\\hp\\code2vec\\py_example\\7k.csv\")\n",
    "\n",
    "print(sol_data)"
   ]
  },
  {
   "cell_type": "code",
   "execution_count": null,
   "metadata": {},
   "outputs": [],
   "source": [
    "import pandas as pd\n",
    "sol_data= pd.read_csv(r\"C:\\Users\\hp\\Repository\\combined.csv\")\n",
    "#sol_data.head()\n",
    "#print(sol_data)\n",
    "sol_data.info()"
   ]
  }
 ],
 "metadata": {
  "kernelspec": {
   "display_name": "Python 3",
   "language": "python",
   "name": "python3"
  },
  "language_info": {
   "codemirror_mode": {
    "name": "ipython",
    "version": 3
   },
   "file_extension": ".py",
   "mimetype": "text/x-python",
   "name": "python",
   "nbconvert_exporter": "python",
   "pygments_lexer": "ipython3",
   "version": "3.7.2"
  }
 },
 "nbformat": 4,
 "nbformat_minor": 4
}
