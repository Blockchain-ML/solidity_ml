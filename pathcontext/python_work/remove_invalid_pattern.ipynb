{
 "cells": [
  {
   "cell_type": "code",
   "execution_count": 42,
   "metadata": {},
   "outputs": [
    {
     "name": "stderr",
     "output_type": "stream",
     "text": [
      "C:\\Users\\hp\\anaconda3\\lib\\site-packages\\ipykernel_launcher.py:36: SettingWithCopyWarning: \n",
      "A value is trying to be set on a copy of a slice from a DataFrame\n",
      "\n",
      "See the caveats in the documentation: https://pandas.pydata.org/pandas-docs/stable/user_guide/indexing.html#returning-a-view-versus-a-copy\n"
     ]
    }
   ],
   "source": [
    "import pandas as pd\n",
    "import csv\n",
    "import os\n",
    "import sys\n",
    "import re\n",
    "x =pd.read_csv(r\"C:\\Users\\hp\\Code\\out.csv\\out.csv\")\n",
    "path=(r\"C:\\Users\\hp\\Code\\exp_sol\")\n",
    "sol = x['code']\n",
    "ID=x['_id']\n",
    "#print(ID)\n",
    "#print(sol)\n",
    "#print(len(sol))\n",
    "def commentRemover(string):\n",
    "        #print(string)\n",
    "        def replacer(match):\n",
    "            s = match.group(0)\n",
    "            #print(s)\n",
    "            if s.startswith('/'):\n",
    "                return \"\" # note: a space and not an empty string\n",
    "            else:\n",
    "                return s\n",
    "        pattern = re.compile(r'//.*?$|/\\*.*?\\*/|\\'(?:\\\\.|[^\\\\\\'])*\\'|\"(?:\\\\.|[^\\\\\"])*\"',\n",
    "            re.DOTALL | re.MULTILINE)\n",
    "        #replaced=re.sub(pattern, replacer, string)\n",
    "        #print(replaced)\n",
    "        return re.sub(pattern, replacer, string)\n",
    "\n",
    "#path = os.curdir\n",
    "for r in range(0,len(sol)):\n",
    "    #print(ID[r])\n",
    "    #new_file_name=str(int(r))\n",
    "    file=str(sol[r])\n",
    "    #print(file)\n",
    "    #new_file_name=str(int(r))\n",
    "    #print(new_file_name)\n",
    "    sol[r]=commentRemover(file)\n",
    "    #print(filename)\n",
    "    #_ID=str(int(ID))\n",
    "    with open(path+'/'+str(ID[r])+'.sol','w',encoding=\"utf-8\") as fp1:\n",
    "        #print(sol[r])\n",
    "        fp1.write(sol[r])\n",
    "fp1.close()"
   ]
  },
  {
   "cell_type": "code",
   "execution_count": null,
   "metadata": {},
   "outputs": [],
   "source": []
  }
 ],
 "metadata": {
  "kernelspec": {
   "display_name": "Python 3",
   "language": "python",
   "name": "python3"
  },
  "language_info": {
   "codemirror_mode": {
    "name": "ipython",
    "version": 3
   },
   "file_extension": ".py",
   "mimetype": "text/x-python",
   "name": "python",
   "nbconvert_exporter": "python",
   "pygments_lexer": "ipython3",
   "version": "3.7.2"
  }
 },
 "nbformat": 4,
 "nbformat_minor": 4
}
