{
 "cells": [
  {
   "cell_type": "code",
   "execution_count": 14,
   "metadata": {},
   "outputs": [
    {
     "name": "stdout",
     "output_type": "stream",
     "text": [
      "XGBClassifier(base_score=0.5, booster='gbtree', colsample_bylevel=1,\n",
      "              colsample_bynode=1, colsample_bytree=0.5, gamma=0.4, gpu_id=-1,\n",
      "              importance_type='gain', interaction_constraints='',\n",
      "              learning_rate=0.1, max_delta_step=0, max_depth=20,\n",
      "              min_child_weight=7, missing=None, monotone_constraints='()',\n",
      "              n_estimators=100, n_jobs=1, nthread=1, num_parallel_tree=1,\n",
      "              random_state=69, reg_alpha=0, reg_lambda=1, scale_pos_weight=1,\n",
      "              seed=69, subsample=1, tree_method='exact', validate_parameters=1,\n",
      "              verbosity=None)\n"
     ]
    },
    {
     "data": {
      "image/png": "[encoded data removed]",
      "text/plain": [
       "<Figure size 432x288 with 1 Axes>"
      ]
     },
     "metadata": {
      "needs_background": "light"
     },
     "output_type": "display_data"
    },
    {
     "name": "stdout",
     "output_type": "stream",
     "text": [
      "[[18934   121]\n",
      " [  828 18227]]\n",
      "              precision    recall  f1-score   support\n",
      "\n",
      "           0       0.96      0.99      0.98     19055\n",
      "           1       0.99      0.96      0.97     19055\n",
      "\n",
      "    accuracy                           0.98     38110\n",
      "   macro avg       0.98      0.98      0.98     38110\n",
      "weighted avg       0.98      0.98      0.98     38110\n",
      "\n"
     ]
    }
   ],
   "source": [
    "import numpy as np\n",
    "import pandas as pd\n",
    "import sklearn\n",
    "from sklearn.metrics import classification_report,accuracy_score, f1_score, recall_score, precision_score, confusion_matrix\n",
    "from sklearn import tree\n",
    "from sklearn import preprocessing\n",
    "from matplotlib import pyplot\n",
    "from sklearn.model_selection import cross_val_score \n",
    "from sklearn.metrics import roc_auc_score\n",
    "import pickle\n",
    "from sklearn import metrics\n",
    "# open a file, where you stored the pickled data\n",
    "loaded_model = pickle.load(open('/home/supriya/pickle/1_model20.pickle','rb'))\n",
    "X_smv = pickle.load(open('/home/supriya/pickle/l1_X20.pickle','rb'))\n",
    "y_smv = pickle.load(open('/home/supriya/pickle/l1_Y20.pickle','rb'))\n",
    "  \n",
    "print(loaded_model)\n",
    "y_predict = loaded_model.predict(X_smv)\n",
    "pd.crosstab(y_smv,y_predict)\n",
    "yhat = loaded_model.predict_proba(X_smv)\n",
    "# keep probabilities for the positive outcome only\n",
    "yhat = yhat[:, 1]\n",
    "# calculate roc curves\n",
    "fpr, tpr, thresholds = metrics.roc_curve(y_smv, yhat)\n",
    "# plot the roc curve for the model\n",
    "pyplot.plot([0,1], [0,1], linestyle='--')\n",
    "pyplot.plot(fpr, tpr, marker='.', label='xgboost')\n",
    "# axis labels\n",
    "pyplot.xlabel('False Positive Rate(FPR)')\n",
    "pyplot.ylabel('True Positive Rate(TPR)')\n",
    "pyplot.legend()\n",
    "# show the plot\n",
    "pyplot.show()\n",
    "from sklearn.model_selection import cross_val_score \n",
    "from sklearn.metrics import roc_auc_score\n",
    "import pickle\n",
    "results=classification_report(y_smv,y_predict)\n",
    "\n",
    "cm = confusion_matrix(y_smv, y_predict)\n",
    "roc=roc_auc_score(y_smv,y_predict)\n",
    "\n",
    "print(cm)\n",
    "print(results) \n"
   ]
  },
  {
   "cell_type": "code",
   "execution_count": 29,
   "metadata": {},
   "outputs": [
    {
     "ename": "NameError",
     "evalue": "name 'X_smv' is not defined",
     "output_type": "error",
     "traceback": [
      "\u001b[0;31m---------------------------------------------------------------------------\u001b[0m",
      "\u001b[0;31mNameError\u001b[0m                                 Traceback (most recent call last)",
      "\u001b[0;32m<ipython-input-29-e1362fecf35e>\u001b[0m in \u001b[0;36m<module>\u001b[0;34m\u001b[0m\n\u001b[0;32m----> 1\u001b[0;31m \u001b[0mresult\u001b[0m \u001b[0;34m=\u001b[0m \u001b[0mm\u001b[0m\u001b[0;34m.\u001b[0m\u001b[0mpredict\u001b[0m\u001b[0;34m(\u001b[0m\u001b[0mX_smv\u001b[0m\u001b[0;34m)\u001b[0m\u001b[0;34m\u001b[0m\u001b[0;34m\u001b[0m\u001b[0m\n\u001b[0m",
      "\u001b[0;31mNameError\u001b[0m: name 'X_smv' is not defined"
     ]
    }
   ],
   "source": [
    "result = m.predict(X_smv)"
   ]
  },
  {
   "cell_type": "code",
   "execution_count": null,
   "metadata": {},
   "outputs": [],
   "source": []
  }
 ],
 "metadata": {
  "kernelspec": {
   "display_name": "Python 3",
   "language": "python",
   "name": "python3"
  },
  "language_info": {
   "codemirror_mode": {
    "name": "ipython",
    "version": 3
   },
   "file_extension": ".py",
   "mimetype": "text/x-python",
   "name": "python",
   "nbconvert_exporter": "python",
   "pygments_lexer": "ipython3",
   "version": "3.7.2"
  }
 },
 "nbformat": 4,
 "nbformat_minor": 4
}
