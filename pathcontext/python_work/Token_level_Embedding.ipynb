{
 "cells": [
  {
   "cell_type": "code",
   "execution_count": 155,
   "metadata": {},
   "outputs": [
    {
     "name": "stdout",
     "output_type": "stream",
     "text": [
      "/home/supriya/CDP_MIT/empty_lines/2.sol\n",
      "1 pragma solidity ^0.7.6;\n",
      "\n",
      "2 contract foo {\n",
      "\n",
      "3 function foo1(x){\n",
      "\n",
      "4 \tfor (int i=1;i<=10;i++)\n",
      "\n",
      "5 \t\tx=x-1;\n",
      "\n",
      "6 \treturn x;\n",
      "\n",
      "7 }\n",
      "\n",
      "8 function foo2(){\n",
      "\n",
      "9 \ty=y+z;\n",
      "\n",
      "10 \tx=y/foo1(z);\n",
      "\n",
      "11 }\n",
      "\n",
      "12 }\n",
      "\n"
     ]
    },
    {
     "ename": "KeyError",
     "evalue": "'i'",
     "output_type": "error",
     "traceback": [
      "\u001b[0;31m---------------------------------------------------------------------------\u001b[0m",
      "\u001b[0;31mKeyError\u001b[0m                                  Traceback (most recent call last)",
      "\u001b[0;32m<ipython-input-155-3931ade83cc4>\u001b[0m in \u001b[0;36m<module>\u001b[0;34m\u001b[0m\n\u001b[1;32m     41\u001b[0m \u001b[0;34m\u001b[0m\u001b[0m\n\u001b[1;32m     42\u001b[0m \u001b[0;32mfor\u001b[0m \u001b[0mkey\u001b[0m\u001b[0;34m,\u001b[0m \u001b[0mvalue\u001b[0m \u001b[0;32min\u001b[0m \u001b[0mtname_dict\u001b[0m\u001b[0;34m.\u001b[0m\u001b[0mitems\u001b[0m\u001b[0;34m(\u001b[0m\u001b[0;34m)\u001b[0m\u001b[0;34m:\u001b[0m\u001b[0;34m\u001b[0m\u001b[0;34m\u001b[0m\u001b[0m\n\u001b[0;32m---> 43\u001b[0;31m     \u001b[0;32mif\u001b[0m \u001b[0;34m(\u001b[0m\u001b[0mtname_dict\u001b[0m\u001b[0;34m[\u001b[0m\u001b[0mkey\u001b[0m\u001b[0;34m]\u001b[0m\u001b[0;34m==\u001b[0m\u001b[0mtoken_dict\u001b[0m\u001b[0;34m[\u001b[0m\u001b[0mkey\u001b[0m\u001b[0;34m]\u001b[0m\u001b[0;34m)\u001b[0m\u001b[0;34m:\u001b[0m\u001b[0;34m\u001b[0m\u001b[0;34m\u001b[0m\u001b[0m\n\u001b[0m\u001b[1;32m     44\u001b[0m         \u001b[0mpaths\u001b[0m\u001b[0;34m=\u001b[0m\u001b[0mtname_dict\u001b[0m\u001b[0;34m.\u001b[0m\u001b[0mget\u001b[0m\u001b[0;34m(\u001b[0m\u001b[0mvalue\u001b[0m\u001b[0;34m)\u001b[0m\u001b[0;34m\u001b[0m\u001b[0;34m\u001b[0m\u001b[0m\n\u001b[1;32m     45\u001b[0m \u001b[0;31m#         print(paths)\u001b[0m\u001b[0;34m\u001b[0m\u001b[0;34m\u001b[0m\u001b[0;34m\u001b[0m\u001b[0m\n",
      "\u001b[0;31mKeyError\u001b[0m: 'i'"
     ]
    }
   ],
   "source": [
    "import numpy as np\n",
    "import pandas as pd\n",
    "import subprocess\n",
    "import json\n",
    "import os\n",
    "import re \n",
    "data = pd.read_csv(r'/home/supriya/CDP_MIT/test/test_CDP.csv')\n",
    "# df = pd.DataFrame(data)\n",
    "# print(df)\n",
    "list_of_files = glob.glob(r\"/home/supriya/CDP_MIT/empty_lines/2.sol\")\n",
    "# tokens = pd.read_csv(r'/home/supriya/CDP_MIT/path_exp/tokens.csv', error_bad_lines=False)\n",
    "tname_dict = {}\n",
    "for index, row in CDP.iterrows():\n",
    "    token = row[\"tokenstart\"]\n",
    "    path = row[\"pathnames\"]\n",
    "    tend=row[\"tokenend\"]\n",
    "    tname_dict[token] =token,path,tend\n",
    "    \n",
    "# print(tname_dict)   \n",
    "for file_name in list_of_files:\n",
    "    print(file_name)\n",
    "    filename=os.path.splitext(os.path.basename(file_name))[0]\n",
    "    #print(filename)\n",
    "    file=filename.split('_')\n",
    "    #print(file)\n",
    "    ID=file[-1]\n",
    "#     print(str(ID))\n",
    "    f= open(file_name, 'r', encoding=\"iso-8859-1\")\n",
    "\n",
    "    Lines = f.readlines()\n",
    "\n",
    "    token_dict={}\n",
    "#     print(Lines)\n",
    "#     print(type(Lines))\n",
    "    for cnt, line in enumerate(Lines):\n",
    "        cnt=cnt+1\n",
    "#         print(type(line))\n",
    "#         print(t1)\n",
    "        print(cnt,line)\n",
    "\n",
    "\n",
    "    \n",
    "    \n",
    "\n",
    "\n"
   ]
  },
  {
   "cell_type": "code",
   "execution_count": 97,
   "metadata": {},
   "outputs": [
    {
     "name": "stdout",
     "output_type": "stream",
     "text": [
      "{'pragma': 1484, 'solidity': 1484, '0.5.2': 1484, 'interface': 1171, 'IERC20': 1433, '{': 1495, 'function': 1427, 'transferaddress': 1249, 'to': 1358, 'uint256': 1482, 'value': 1359, 'external': 1402, 'returns': 1427, 'bool': 1455, 'approveaddress': 1253, 'spender': 1292, 'transferFromaddress': 1257, 'from': 1357, 'address': 1494, 'totalSupply': 1240, 'view': 1398, 'balanceOfaddress': 1243, 'who': 7, 'allowanceaddress': 1246, 'owner': 1288, 'event': 1207, 'Transferaddress': 869, 'indexed': 1206, 'Approvaladdress': 870, '}': 1503, 'IGovernance': 18, 'updateaddress': 14, 'target': 14, 'bytes': 1395, 'calldata': 1322, 'data': 884, 'contract': 1485, 'Governable': 165, 'public': 1495, 'governance': 25, 'constructoraddress': 1208, '_governance': 1494, '=': 1501, 'IGovernance_governance': 20, 'modifier': 601, 'onlyGovernance': 175, 'require': 1163, 'msg.sender': 1428, '==': 1224, 'addressgovernance': 24, '\"Only': 25, 'is': 1485, 'authorized\"': 25, '': 1495, '_': 604, 'IWithdrawManager': 31, 'createExitQueueaddress': 32, 'token': 1498, 'verifyInclusion': 33, 'uint8': 432, 'offset': 35, 'verifyTxInclusion': 36, 'age': 49, 'addExitToQueue': 38, 'exitor': 39, 'childToken': 158, 'rootToken': 159, 'exitAmountOrTokenId': 42, 'bytes32': 1453, 'txHash': 43, 'isRegularExit': 44, 'priority': 45, 'addInput': 47, 'exitId': 54, 'utxoOwner': 50, 'challengeExit': 53, 'inputId': 55, 'challengeData': 56, 'adjudicatorPredicate': 57, 'Registry': 575, 'private': 1239, 'constant': 1380, 'WETH_TOKEN': 62, 'keccak256\"wethToken\"': 62, 'DEPOSIT_MANAGER': 63, 'keccak256\"depositManager\"': 63, 'STAKE_MANAGER': 64, 'keccak256\"stakeManager\"': 64, 'VALIDATOR_SHARE': 65, 'keccak256\"validatorShare\"': 65, 'WITHDRAW_MANAGER': 66, 'keccak256\"withdrawManager\"': 66, 'CHILD_CHAIN': 67, 'keccak256\"childChain\"': 67, 'STATE_SENDER': 68, 'keccak256\"stateSender\"': 68, 'SLASHING_MANAGER': 69, 'keccak256\"slashingManager\"': 69, 'erc20Predicate': 156, 'erc721Predicate': 154, 'mappingbytes32': 72, '=>': 1481, 'contractMap': 72, 'mappingaddress': 1479, 'rootToChildToken': 73, 'childToRootToken': 74, 'proofValidatorContracts': 75, 'isERC721': 76, 'enum': 1465, 'Type': 114, '{Invalid': 77, 'ERC20': 1355, 'ERC721': 1141, 'Custom}': 77, 'struct': 1466, 'Predicate': 81, '_type': 116, 'predicates': 81, 'TokenMappedaddress': 82, 'ProofValidatorAddedaddress': 83, 'validator': 593, 'ProofValidatorRemovedaddress': 84, 'PredicateAddedaddress': 85, 'predicate': 119, 'PredicateRemovedaddress': 86, 'ContractMapUpdatedbytes32': 87, 'key': 87, 'previousContract': 87, 'newContract': 87, 'Governable_governance': 171, '{}': 171, 'updateContractMapbytes32': 89, '_key': 89, '_address': 91, 'emit': 1292, 'ContractMapUpdated_key': 90, 'contractMap[_key]': 91, 'mapToken': 93, '_rootToken': 100, '_childToken': 103, '_isERC721': 101, 'require_rootToken': 98, '!=': 1290, 'address0x0': 1218, '&&': 425, '\"INVALID_TOKEN_ADDRESS\"': 98, 'rootToChildToken[_rootToken]': 99, 'childToRootToken[_childToken]': 100, 'isERC721[_rootToken]': 101, 'IWithdrawManagercontractMap[WITHDRAW_MANAGER].createExitQueue_rootToken': 102, 'TokenMapped_rootToken': 103, 'addErc20Predicateaddress': 105, 'requirepredicate': 106, '\"Can': 106, 'not': 603, 'add': 324, 'null': 106, 'as': 106, 'predicate\"': 106, 'addPredicatepredicate': 112, 'Type.ERC20': 108, 'addErc721Predicateaddress': 110, 'Type.ERC721': 112, 'addPredicateaddress': 114, 'requirepredicates[predicate]._type': 120, 'Type.Invalid': 120, '\"Predicate': 120, 'already': 115, 'added\"': 115, 'predicates[predicate]._type': 116, 'PredicateAddedpredicate': 117, 'removePredicateaddress': 119, 'does': 120, 'exist\"': 120, 'delete': 1136, 'predicates[predicate]': 121, 'PredicateRemovedpredicate': 122, 'getValidatorShareAddress': 124, 'return': 1428, 'contractMap[VALIDATOR_SHARE]': 125, 'getWethTokenAddress': 127, 'contractMap[WETH_TOKEN]': 128, 'getDepositManagerAddress': 130, 'contractMap[DEPOSIT_MANAGER]': 131, 'getStakeManagerAddress': 133, 'contractMap[STAKE_MANAGER]': 134, 'getSlashingManagerAddress': 136, 'contractMap[SLASHING_MANAGER]': 137, 'getWithdrawManagerAddress': 139, 'contractMap[WITHDRAW_MANAGER]': 140, 'getChildChainAndStateSender': 142, 'contractMap[CHILD_CHAIN]': 143, 'contractMap[STATE_SENDER]': 143, 'isTokenMappedaddress': 145, '_token': 1490, 'rootToChildToken[_token]': 146, 'isTokenMappedAndIsErc721address': 148, 'requireisTokenMapped_token': 149, '\"TOKEN_NOT_MAPPED\"': 149, 'isERC721[_token]': 150, 'isTokenMappedAndGetPredicateaddress': 152, 'if': 1417, 'isTokenMappedAndIsErc721_token': 153, 'isChildTokenErc721address': 158, 'childToRootToken[childToken]': 159, 'requirerootToken': 160, '\"Child': 160, 'mapped\"': 160, 'isERC721[rootToken]': 161, 'Lockable': 1432, 'locked': 176, 'onlyWhenUnlocked': 167, 'require!locked': 168, '\"Is': 168, 'Locked\"': 168, 'lock': 172, 'true': 1455, 'unlock': 175, 'false': 1225, 'Ownable': 1146, '_owner': 207, 'OwnershipTransferredaddress': 182, 'previousOwner': 182, 'newOwner': 207, 'constructor': 1486, 'internal': 1415, 'OwnershipTransferredaddress0': 185, 'onlyOwner': 1411, 'requireisOwner': 191, 'isOwner': 194, 'renounceOwnership': 197, 'OwnershipTransferred_owner': 206, 'address0': 1290, 'transferOwnershipaddress': 201, '_transferOwnershipnewOwner': 202, '_transferOwnershipaddress': 204, 'requirenewOwner': 205, 'ProxyStorage': 1432, 'proxyTo': 1221, 'RootChainable': 1432, 'rootChain': 1497, 'RootChainChanged': 217, 'previousRootChain': 218, 'newRootChain': 228, 'onlyRootChain': 221, 'requiremsg.sender': 952, 'changeRootChainaddress': 225, 'requirenewRootChain': 226, 'RootChainChangedrootChain': 227, 'library': 896, 'SafeMath': 1236, 'muluint256': 233, 'a': 258, 'b': 368, 'pure': 1326, '0': 1417, 'c': 254, '*': 1441, 'requirec': 253, '/': 1451, 'divuint256': 241, 'requireb': 257, '>': 1417, 'subuint256': 246, '<=': 247, '-': 366, 'adduint256': 251, '+': 393, '>=': 393, 'moduint256': 256, '%': 258, 'BytesLib': 262, 'concatbytes': 263, 'memory': 1395, '_preBytes': 263, '_postBytes': 263, 'tempBytes': 344, 'assembly': 1228, ':=': 1229, 'mload0x40': 1192, 'let': 1192, 'length': 286, 'mload_preBytes': 298, 'mstoretempBytes': 336, 'mc': 331, 'addtempBytes': 341, '0x20': 1186, 'end': 330, 'addmc': 331, 'for': 1236, 'cc': 332, 'add_preBytes': 276, 'ltmc': 330, 'addcc': 332, 'mstoremc': 334, 'mloadcc': 334, 'mload_postBytes': 283, 'addlength': 284, 'mloadtempBytes': 284, 'add_postBytes': 288, 'mstore': 295, '0x40': 296, 'and': 297, 'addaddend': 298, 'iszeroaddlength': 298, '31': 366, 'not31': 337, 'slicebytes': 305, '_bytes': 388, '_start': 397, '_length': 336, 'require_bytes.length': 393, 'switch': 1194, 'iszero_length': 313, 'case': 1195, 'lengthmod': 325, 'and_length': 316, 'mul0x20': 326, 'iszerolengthmod': 326, 'add_bytes': 325, 'mstore0x40': 341, 'andaddmc': 337, 'default': 1198, 'leftPadbytes': 346, 'newBytes': 347, 'new': 371, 'bytesSafeMath.sub32': 347, '_bytes.length': 347, 'concatnewBytes': 348, 'toBytes32bytes': 350, 'requireb.length': 351, '32': 418, '\"Bytes': 351, 'array': 351, 'should': 351, 'atleast': 351, 'be': 351, 'bytes\"': 351, 'out': 356, 'i': 366, '<': 1052, 'i++': 365, '|=': 354, 'bytes32b[i]': 354, '&': 354, '0xFF': 354, '>>': 354, '8': 354, 'toBytes4bytes': 358, 'bytes4': 1113, 'result': 1194, 'mloadaddb': 360, 'fromBytes32bytes32': 363, 'x': 363, 'b[i]': 366, 'bytes1uint8uint256x': 366, '2**8': 366, 'fromUintuint256': 370, '_num': 373, '_ret': 371, 'mstoreadd_ret': 373, 'toUintbytes': 376, 'tempUint': 386, 'mloadaddadd_bytes': 397, 'toAddressbytes': 388, '20': 393, 'tempAddress': 401, 'div': 396, '0x1000000000000000000000000': 398, 'ECVerify': 405, 'ecrecoverybytes32': 432, 'hash': 441, 'sig': 446, 'r': 437, 's': 437, 'v': 437, 'sig.length': 414, '65': 420, 'mloadaddsig': 419, '64': 419, 'andmloadaddsig': 420, '255': 420, '27': 425, '+=': 905, '28': 425, 'ecrecoverhash': 437, 'requireresult': 438, '\"signature': 438, 'verification': 438, 'failed\"': 438, 'ecverifybytes32': 441, 'signer': 1472, 'ecrecoveryhash': 446, 'IStakeManager1': 809, 'Status': 1474, '{Inactive': 1465, 'Active': 1465, 'Locked': 1465, 'Unstaked}': 1465, 'Validator': 1476, 'amount': 1467, 'reward': 1468, 'activationEpoch': 1469, 'deactivationEpoch': 1470, 'jailTime': 1471, 'contractAddress': 1473, 'status': 1474, 'mappinguint256': 1481, 'validators': 1476, 'accountStateRoot': 1453, 'activeAmount': 1374, 'validatorRewards': 1420, 'currentValidatorSetTotalStake': 466, 'signerToValidatoraddress': 467, 'validatorAddress': 467, 'isValidatoruint256': 471, 'validatorId': 1428, 'StakingInfo': 1435, 'using': 1236, 'validatorNonce': 475, 'Staked': 618, 'nonce': 684, 'total': 670, 'signerPubkey': 1332, 'Unstaked': 485, 'user': 1459, 'UnstakeInit': 643, 'SignerChange': 658, 'oldSigner': 661, 'newSigner': 662, 'Restakeduint256': 505, 'Jailed': 506, 'exitEpoch': 676, 'UnJaileduint256': 511, 'Slasheduint256': 512, 'ThresholdChangeuint256': 513, 'newThreshold': 690, 'oldThreshold': 694, 'DynastyValueChangeuint256': 514, 'newDynasty': 696, 'oldDynasty': 700, 'ProposerBonusChange': 515, 'newProposerBonus': 703, 'oldProposerBonus': 706, 'RewardUpdateuint256': 519, 'newReward': 708, 'oldReward': 712, 'StakeUpdate': 719, 'newAmount': 523, 'ClaimRewards': 525, 'totalAmount': 730, 'StartAuction': 530, 'auctionAmount': 737, 'ConfirmAuction': 535, 'newValidatorId': 740, 'oldValidatorId': 744, 'TopUpFeeaddress': 540, 'fee': 750, 'ClaimFeeaddress': 541, 'ShareMinted': 542, 'tokens': 836, 'ShareBurned': 548, 'DelegatorClaimedRewards': 554, 'rewards': 1422, 'DelegatorRestaked': 560, 'totalStaked': 1447, 'DelegatorUnstaked': 565, 'UpdateCommissionRate': 856, 'newCommissionRate': 858, 'oldCommissionRate': 859, 'registry': 1496, 'onlyValidatorContractuint256': 576, '_contract': 776, 'registry.getStakeManagerAddress': 810, '.validatorsvalidatorId': 812, 'require_contract': 592, '\"Invalid': 603, 'sender': 603, 'validator\"': 583, 'StakeManagerOrValidatorContractuint256': 586, '_stakeManager': 1388, 'IStakeManager1_stakeManager.validators': 589, '||': 985, 'stake': 1318, 'manager': 593, 'or': 593, 'contract\"': 593, 'onlyStakeManager': 749, 'requireregistry.getStakeManagerAddress': 597, 'manager\"': 603, 'onlySlashingManager': 686, 'requireregistry.getSlashingManagerAddress': 602, 'slashing': 603, '_registry': 1496, 'Registry_registry': 607, 'logStaked': 609, 'validatorNonce[validatorId]': 721, 'validatorNonce[validatorId].add1': 718, 'logUnstaked': 628, 'Unstakeduser': 634, 'logUnstakeInit': 636, 'logSignerChange': 651, 'logRestakeduint256': 666, 'RestakedvalidatorId': 670, 'logJaileduint256': 672, 'JailedvalidatorId': 676, 'logUnjaileduint256': 678, 'UnJailedvalidatorId': 682, 'logSlasheduint256': 684, 'Slashednonce': 688, 'logThresholdChangeuint256': 690, 'ThresholdChangenewThreshold': 694, 'logDynastyValueChangeuint256': 696, 'DynastyValueChangenewDynasty': 700, 'logProposerBonusChange': 702, 'ProposerBonusChangenewProposerBonus': 706, 'logRewardUpdateuint256': 708, 'RewardUpdatenewReward': 712, 'logStakeUpdateuint256': 714, 'StakeManagerOrValidatorContractvalidatorId': 716, 'totalValidatorStakevalidatorId': 722, 'logClaimRewards': 725, 'ClaimRewardsvalidatorId': 730, 'logStartAuction': 732, 'StartAuctionvalidatorId': 737, 'logConfirmAuction': 739, 'ConfirmAuctionnewValidatorId': 744, 'logTopUpFeeaddress': 746, 'TopUpFeeuser': 747, 'logClaimFeeaddress': 749, 'ClaimFeeuser': 750, 'getStakerDetailsuint256': 752, '_status': 780, 'stakeManager': 1392, 'IStakeManager1.Status': 768, 'stakeManager.validatorsvalidatorId': 778, 'IStakeManager1_contract.validatorRewards': 779, 'uint256status': 780, 'totalValidatorStakeuint256': 782, 'validatorStake': 1408, 'IStakeManager1contractAddress.activeAmount': 793, 'getAccountStateRoot': 796, 'IStakeManager1registry.getStakeManagerAddress': 801, '.accountStateRoot': 802, 'getValidatorContractAddressuint256': 804, 'ValidatorContract': 809, 'logShareMinted': 814, 'onlyValidatorContractvalidatorId': 855, 'ShareMintedvalidatorId': 820, 'logShareBurned': 822, 'ShareBurnedvalidatorId': 828, 'logDelegatorClaimRewards': 830, 'DelegatorClaimedRewardsvalidatorId': 836, 'logDelegatorRestaked': 838, 'DelegatorRestakedvalidatorId': 843, 'logDelegatorUnstakeduint256': 845, 'DelegatorUnstakedvalidatorId': 849, 'logUpdateCommissionRate': 851, 'IERC165': 912, 'supportsInterfacebytes4': 918, 'interfaceId': 921, 'IERC721': 1103, 'tokenId': 1342, 'approved': 963, 'ApprovalForAlladdress': 871, 'operator': 965, 'balance': 872, 'ownerOfuint256': 1342, 'getApproveduint256': 956, 'setApprovalForAlladdress': 960, '_approved': 876, 'isApprovedForAlladdress': 965, 'safeTransferFromaddress': 975, 'IERC721Receiver': 883, 'onERC721Receivedaddress': 884, 'Address': 929, 'isContractaddress': 1223, 'account': 1294, 'size': 1231, 'extcodesizeaccount': 891, 'Counters': 930, 'Counter': 898, '_value': 899, 'currentCounter': 901, 'storage': 1071, 'counter': 907, 'counter._value': 908, 'incrementCounter': 904, '1': 1448, 'decrementCounter': 907, 'counter._value.sub1': 908, 'ERC165': 1109, '_INTERFACE_ID_ERC165': 913, '0x01ffc9a7': 913, 'mappingbytes4': 914, '_supportedInterfaces': 914, '_registerInterface_INTERFACE_ID_ERC165': 916, '_supportedInterfaces[interfaceId]': 923, '_registerInterfacebytes4': 921, 'requireinterfaceId': 922, '0xffffffff': 922, 'Counters.Counter': 934, '_ERC721_RECEIVED': 1020, '0x150b7a02': 931, 'mapping': 1238, '_tokenOwner': 932, '_tokenApprovals': 933, '_ownedTokensCount': 934, '_operatorApprovals': 935, '_INTERFACE_ID_ERC721': 936, '0x80ac58cd': 936, '_registerInterface_INTERFACE_ID_ERC721': 938, 'requireowner': 1290, '_ownedTokensCount[owner].current': 942, '_tokenOwner[tokenId]': 1010, 'ownerOftokenId': 984, 'requireto': 1271, 'isApprovedForAllowner': 985, '_tokenApprovals[tokenId]': 1024, 'Approvalowner': 1292, 'require_existstokenId': 1130, '_operatorApprovals[msg.sender][to]': 962, 'ApprovalForAllmsg.sender': 963, '_operatorApprovals[owner][operator]': 966, 'require_isApprovedOrOwnermsg.sender': 969, '_transferFromfrom': 970, 'safeTransferFromfrom': 973, '\"\"': 973, '_data': 1019, 'transferFromfrom': 976, 'require_checkOnERC721Receivedfrom': 977, '_existsuint256': 979, '_isApprovedOrOwneraddress': 983, 'getApprovedtokenId': 985, '_mintaddress': 1276, 'require!_existstokenId': 989, '_ownedTokensCount[to].increment': 1009, 'Transferaddress0': 1280, '_burnaddress': 1282, 'requireownerOftokenId': 1005, '_clearApprovaltokenId': 1007, '_ownedTokensCount[owner].decrement': 997, 'Transferowner': 999, '_burnuint256': 1001, '_burnownerOftokenId': 1002, '_transferFromaddress': 1162, '_ownedTokensCount[from].decrement': 1008, 'Transferfrom': 1274, '_checkOnERC721Receivedaddress': 1013, '!to.isContract': 1016, 'retval': 1020, 'IERC721Receiverto.onERC721Receivedmsg.sender': 1019, '_clearApprovaluint256': 1022, 'IERC721Enumerable': 1035, 'tokenOfOwnerByIndexaddress': 1044, 'index': 1051, 'tokenByIndexuint256': 1051, 'ERC721Enumerable': 1141, 'uint256[]': 1071, '_ownedTokens': 1036, '_ownedTokensIndex': 1037, '_allTokens': 1038, '_allTokensIndex': 1039, '_INTERFACE_ID_ERC721_ENUMERABLE': 1040, '0x780e9d63': 1040, '_registerInterface_INTERFACE_ID_ERC721_ENUMERABLE': 1042, 'requireindex': 1052, 'balanceOfowner': 1045, '_ownedTokens[owner][index]': 1046, '_allTokens.length': 1079, '_allTokens[index]': 1053, 'super._transferFromfrom': 1167, '_removeTokenFromOwnerEnumerationfrom': 1057, '_addTokenToOwnerEnumerationto': 1062, 'super._mintto': 1061, '_addTokenToAllTokensEnumerationtokenId': 1063, 'super._burnowner': 1134, '_removeTokenFromOwnerEnumerationowner': 1067, '_ownedTokensIndex[tokenId]': 1084, '_removeTokenFromAllTokensEnumerationtokenId': 1069, '_tokensOfOwneraddress': 1071, '_ownedTokens[owner]': 1072, '_addTokenToOwnerEnumerationaddress': 1074, '_ownedTokens[to].length': 1075, '_ownedTokens[to].pushtokenId': 1076, '_addTokenToAllTokensEnumerationuint256': 1078, '_allTokensIndex[tokenId]': 1099, '_allTokens.pushtokenId': 1080, '_removeTokenFromOwnerEnumerationaddress': 1082, 'lastTokenIndex': 1093, '_ownedTokens[from].length.sub1': 1083, 'tokenIndex': 1097, 'lastTokenId': 1096, '_ownedTokens[from][lastTokenIndex]': 1086, '_ownedTokens[from][tokenIndex]': 1087, '_ownedTokensIndex[lastTokenId]': 1088, '_ownedTokens[from].length--': 1090, '_removeTokenFromAllTokensEnumerationuint256': 1092, '_allTokens.length.sub1': 1093, '_allTokens[lastTokenIndex]': 1095, '_allTokens[tokenIndex]': 1096, '_allTokensIndex[lastTokenId]': 1097, '_allTokens.length--': 1098, 'IERC721Metadata': 1109, 'name': 1147, 'string': 1147, 'symbol': 1149, 'tokenURIuint256': 1125, 'ERC721Metadata': 1141, '_name': 1120, '_symbol': 1123, '_tokenURIs': 1112, '_INTERFACE_ID_ERC721_METADATA': 1113, '0x5b5e139f': 1113, '_registerInterface_INTERFACE_ID_ERC721_METADATA': 1117, '_tokenURIs[tokenId]': 1136, '_setTokenURIuint256': 1129, 'uri': 1131, 'bytes_tokenURIs[tokenId].length': 1135, 'ERC721Full': 1146, 'ERC721Metadataname': 1142, 'StakingNFT': 1436, 'constructorstring': 1147, 'ERC721Fullname': 1149, 'mintaddress': 1152, 'balanceOfto': 1164, '\"Validators': 1165, 'MUST': 1165, 'NOT': 1165, 'own': 1165, 'multiple': 1165, 'position\"': 1165, '_mintto': 1157, 'burnuint256': 1159, '_burntokenId': 1160, 'ERCProxy': 1176, 'proxyType': 1177, 'proxyTypeId': 1178, 'implementation': 1398, 'codeAddr': 1173, 'DelegateProxy': 1205, '2': 1178, 'delegatedFwdaddress': 1395, '_dst': 1185, '_calldata': 1396, 'delegatecall': 1183, 'subgas': 1184, '10000': 1184, 'add_calldata': 1186, 'mload_calldata': 1187, 'returndatasize': 1191, 'ptr': 1192, 'returndatacopyptr': 1193, 'revertptr': 1196, 'returnptr': 1199, 'Proxy': 1485, 'ProxyUpdatedaddress': 1206, '_new': 1206, '_old': 1206, 'OwnerUpdateaddress': 1207, '_prevOwner': 1207, '_newOwner': 1207, '_proxyTo': 1487, 'updateImplementation_proxyTo': 1209, 'payable': 1211, 'delegatedFwdproxyTo': 1212, 'msg.data': 1212, 'updateImplementationaddress': 1217, '_newProxyTo': 1221, 'require_newProxyTo': 1218, '\"INVALID_PROXY_ADDRESS\"': 1218, 'requireisContract_newProxyTo': 1219, '\"DESTINATION_ADDRESS_IS_NOT_A_CONTRACT\"': 1219, 'ProxyUpdated_newProxyTo': 1220, '_target': 1224, 'extcodesize_target': 1229, '_balances': 1237, '_allowed': 1238, '_totalSupply': 1284, '_balances[owner]': 1244, '_allowed[owner][spender]': 1291, '_transfermsg.sender': 1250, '_approvemsg.sender': 1267, '_transferfrom': 1258, '_approvefrom': 1259, '_allowed[from][msg.sender].subvalue': 1259, 'increaseAllowanceaddress': 1262, 'addedValue': 1262, '_allowed[msg.sender][spender].addaddedValue': 1263, 'decreaseAllowanceaddress': 1266, 'subtractedValue': 1266, '_allowed[msg.sender][spender].subsubtractedValue': 1267, '_transferaddress': 1270, '_balances[from]': 1272, '_balances[from].subvalue': 1272, '_balances[to]': 1273, '_balances[to].addvalue': 1273, 'requireaccount': 1283, '_totalSupply.addvalue': 1278, '_balances[account]': 1285, '_balances[account].addvalue': 1279, '_totalSupply.subvalue': 1284, '_balances[account].subvalue': 1285, 'Transferaccount': 1286, '_approveaddress': 1288, 'requirespender': 1289, '_burnFromaddress': 1294, '_burnaccount': 1295, '_approveaccount': 1296, '_allowed[account][msg.sender].subvalue': 1296, 'IStakeManager': 1366, 'startAuctionuint256': 1301, 'confirmAuctionBid': 1302, 'heimdallFee': 1330, 'acceptDelegation': 1331, 'transferFunds': 1308, 'delegator': 1316, 'delegationDeposit': 1313, 'unstakeuint256': 1324, 'totalStakedForaddress': 1325, 'addr': 1325, 'supportsHistory': 1326, 'stakeFor': 1327, 'checkSignatures': 1334, 'blockInterval': 1335, 'voteHash': 1336, 'stateRoot': 1337, 'proposer': 1338, 'sigs': 1339, 'updateValidatorStateuint256': 1341, 'int256': 1463, 'slashbytes': 1343, 'slashingInfoList': 1343, 'validatorStakeuint256': 1344, 'epoch': 1345, 'withdrawalDelay': 1346, 'ValidatorShareHeader': 1364, 'Delegator': 1379, 'share': 1351, 'withdrawEpoch': 1352, 'ERC20Disabled': 1364, '_transfer': 1356, 'revert\"Disabled\"': 1361, 'ValidatorShareStorage': 1383, 'stakingLogger': 1391, 'commissionRate': 1417, 'lastCommissionUpdate': 1370, 'minAmount': 1371, '10**18': 1443, 'totalStake': 1372, 'delegation': 1375, 'withdrawPool': 1376, 'withdrawShares': 1377, 'amountStaked': 1378, 'delegators': 1379, 'EXCHANGE_RATE_PRECISION': 1380, '100': 1445, 'ValidatorShareProxy': 1383, '_validatorId': 1390, '_stakingLogger': 1492, 'Proxy_registry': 1389, 'Lockable_stakeManager': 1389, 'StakingInfo_stakingLogger': 1500, 'IStakeManager_stakeManager': 1392, '_transferOwnership_stakeManager': 1393, 'super.delegatedFwdRegistry_registry.getValidatorShareAddress': 1396, 'RegistryproxyTo.getValidatorShareAddress': 1399, 'updateRewardsuint256': 1401, '_reward': 1401, '_stakePower': 1401, 'combinedStakePower': 1409, 'validatorStake.addactiveAmount': 1406, '_rewards': 1415, 'combinedStakePower.mul_reward.div_stakePower': 1407, '_updateRewards_rewards': 1413, 'addProposerBonusuint256': 1411, 'valStake': 1415, 'stakePower': 1415, 'valStake.addactiveAmount': 1412, '_updateRewardsuint256': 1415, '_validatorRewards': 1418, 'valStake.mul_rewards.divstakePower': 1416, '_validatorRewards.add_rewards.sub_validatorRewards.mulcommissionRate.div100': 1418, 'validatorRewards.add_validatorRewards': 1420, 'delegatorsRewards': 1421, '_rewards.sub_validatorRewards': 1421, 'rewards.adddelegatorsRewards': 1422, 'ValidatorShareFactory': 1437, 'createuint256': 1427, 'loggerAddress': 1428, 'addressnew': 1428, 'ValidatorShareProxyregistry': 1428, 'StakeManagerStorage': 1485, 'logger': 1500, 'NFTContract': 1499, 'factory': 1501, 'WITHDRAWAL_DELAY': 1438, '3544': 1440, 'currentEpoch': 1439, 'dynasty': 1451, 'CHECKPOINT_REWARD': 1441, '5047': 1441, 'minDeposit': 1442, 'minHeimdallFee': 1443, 'checkPointBlockInterval': 1444, '256': 1444, 'signerUpdateLimit': 1445, 'validatorThreshold': 1446, '11': 1446, 'NFTCounter': 1448, 'totalRewards': 1449, 'totalRewardsLiquidated': 1450, 'auctionPeriod': 1451, '4': 1451, 'proposerBonus': 1452, '10': 1452, 'replacementCoolDown': 1454, 'delegationEnabled': 1455, 'Auction': 1480, 'startEpoch': 1458, 'State': 1478, 'stakerCount': 1463, 'signerToValidator': 1477, 'validatorState': 1478, 'userFeeExit': 1479, 'validatorAuction': 1480, 'latestSignerUpdateEpoch': 1481, 'totalHeimdallFee': 1482, 'StakeManagerProxy': 1485, '_rootchain': 1497, '_NFTContract': 1491, '_validatorShareFactory': 1493, 'Proxy_proxyTo': 1495, 'Lockable_governance': 1495, 'IERC20_token': 1498, 'StakingNFT_NFTContract': 1499, 'ValidatorShareFactory_validatorShareFactory': 1501}\n"
     ]
    }
   ],
   "source": [
    "print(token_dict)"
   ]
  },
  {
   "cell_type": "code",
   "execution_count": 96,
   "metadata": {},
   "outputs": [
    {
     "name": "stdout",
     "output_type": "stream",
     "text": [
      "{'0.5.2': ('0.5.2', 'versionConstraint UP,pragmaDirective UP,pragmaDirective DOWN', 'solidity'), 'solidity': ('solidity', 'pragmaDirective UP,pragmaDirective DOWN', 'pragma'), '^': ('^', 'versionConstraint UP,pragmaDirective UP,pragmaDirective DOWN', 'solidity'), ';': (';', 'expressionStatement UP,block UP,functionDefinition UP,functionDefinition DOWN', 'function'), 'to': ('to', 'parameter UP,parameterList UP,parameterList DOWN', '('), 'value': ('value', 'parameter UP,parameterList UP,parameterList DOWN,parameter DOWN', 'address'), 'address': ('address', 'parameter UP,parameterList UP,functionDefinition UP,functionDefinition DOWN', 'mapToken'), 'None': ('None', 'parameterList UP,functionDefinition UP,functionDefinition DOWN', 'mapToken'), 'uint256': ('uint256', 'parameter UP,parameterList UP,parameterList DOWN,parameter DOWN', 'address'), ')': (')', 'expression UP,expressionStatement UP,block UP,functionDefinition UP,functionDefinition DOWN', 'function'), 'INVALID_TOKEN_ADDRESS': ('INVALID_TOKEN_ADDRESS', 'expressionList UP,expression UP,expressionStatement UP,block UP,functionDefinition UP,functionDefinition DOWN', 'function'), 'rootToChildToken': ('rootToChildToken', 'expression UP,expression UP,expressionStatement UP,block UP,functionDefinition UP,functionDefinition DOWN', 'function'), '[': ('[', 'expression UP,expression UP,expressionStatement UP,block UP,functionDefinition UP,functionDefinition DOWN', 'function'), '_rootToken': ('_rootToken', 'parameter UP,parameterList UP,functionDefinition UP,functionDefinition DOWN', 'mapToken'), ']': (']', 'expression UP,expression UP,expressionStatement UP,block UP,functionDefinition UP,functionDefinition DOWN', 'function'), '=': ('=', 'expression UP,expressionStatement UP,block UP,functionDefinition UP,functionDefinition DOWN', 'function'), '_childToken': ('_childToken', 'parameter UP,parameterList UP,functionDefinition UP,functionDefinition DOWN', 'mapToken'), 'childToRootToken': ('childToRootToken', 'expression UP,expression UP,expressionStatement UP,block UP,functionDefinition UP,functionDefinition DOWN', 'function'), 'isERC721': ('isERC721', 'expression UP,expression UP,expressionStatement UP,block UP,functionDefinition UP,functionDefinition DOWN', 'function'), '(': ('(', 'parameterList UP,functionDefinition UP,functionDefinition DOWN', 'mapToken')}\n"
     ]
    }
   ],
   "source": [
    "\n",
    "print(tname_dict)"
   ]
  },
  {
   "cell_type": "code",
   "execution_count": 20,
   "metadata": {},
   "outputs": [
    {
     "name": "stdout",
     "output_type": "stream",
     "text": [
      "                   id tokenstart  \\\n",
      "0            100001_1     0.4.11   \n",
      "1            100001_2   solidity   \n",
      "2            100001_3          ^   \n",
      "3            100001_4     0.4.11   \n",
      "4            100001_5          ;   \n",
      "...               ...        ...   \n",
      "761270  100001_761271      <EOF>   \n",
      "761271  100001_761272      <EOF>   \n",
      "761272  100001_761273      <EOF>   \n",
      "761273  100001_761274      <EOF>   \n",
      "761274  100001_761275      <EOF>   \n",
      "\n",
      "                                                pathnames      tokenend  \n",
      "0             versionConstraint UP,versionConstraint DOWN             ^  \n",
      "1                 pragmaDirective UP,pragmaDirective DOWN        pragma  \n",
      "2       versionConstraint UP,pragmaDirective UP,pragma...        pragma  \n",
      "3       versionConstraint UP,pragmaDirective UP,pragma...        pragma  \n",
      "4                 pragmaDirective UP,pragmaDirective DOWN        pragma  \n",
      "...                                                   ...           ...  \n",
      "761270  sourceUnit UP,sourceUnit DOWN,contractDefiniti...        return  \n",
      "761271  sourceUnit UP,sourceUnit DOWN,contractDefiniti...  assetBackend  \n",
      "761272  sourceUnit UP,sourceUnit DOWN,contractDefiniti...             ;  \n",
      "761273  sourceUnit UP,sourceUnit DOWN,contractDefiniti...             }  \n",
      "761274  sourceUnit UP,sourceUnit DOWN,contractDefiniti...             }  \n",
      "\n",
      "[761275 rows x 4 columns]\n"
     ]
    }
   ],
   "source": [
    "import numpy as np\n",
    "import pandas as pd\n",
    "import subprocess\n",
    "import json\n",
    "import os\n",
    "CDP = pd.read_csv(r'/home/supriya/CDP_MIT/path_exp/CDP100001.csv')\n",
    "print(CDP)"
   ]
  },
  {
   "cell_type": "code",
   "execution_count": 147,
   "metadata": {},
   "outputs": [
    {
     "name": "stdout",
     "output_type": "stream",
     "text": [
      "[]\n"
     ]
    }
   ],
   "source": [
    "import numpy as np\n",
    "import pandas as pd\n",
    "import csv\n",
    "import os\n",
    "import sys\n",
    "import re\n",
    "import sys\n",
    "import glob\n",
    "\n",
    "\n",
    "str1=\"pragma solidity ^0.4.11;contract (BaseByzantiumRouter) { function() external payable {address _implementation = implementation();\"\n",
    "pattern=r\"\\w,\\d\"\n",
    "match=re.findall(pattern,str1)\n",
    "print(match)\n",
    "# split = re.split(\"[\\^\\s,!?:;{}'\\\"-]+\",str1)\n",
    "# print(split)\n",
    "\n",
    "\n"
   ]
  },
  {
   "cell_type": "code",
   "execution_count": 141,
   "metadata": {},
   "outputs": [
    {
     "ename": "ModuleNotFoundError",
     "evalue": "No module named 'antlr4'",
     "output_type": "error",
     "traceback": [
      "\u001b[0;31m---------------------------------------------------------------------------\u001b[0m",
      "\u001b[0;31mModuleNotFoundError\u001b[0m                       Traceback (most recent call last)",
      "\u001b[0;32m<ipython-input-141-18869200ad28>\u001b[0m in \u001b[0;36m<module>\u001b[0;34m\u001b[0m\n\u001b[0;32m----> 1\u001b[0;31m \u001b[0;32mimport\u001b[0m \u001b[0mantlr4\u001b[0m\u001b[0;34m\u001b[0m\u001b[0;34m\u001b[0m\u001b[0m\n\u001b[0m",
      "\u001b[0;31mModuleNotFoundError\u001b[0m: No module named 'antlr4'"
     ]
    }
   ],
   "source": [
    "\n"
   ]
  },
  {
   "cell_type": "code",
   "execution_count": null,
   "metadata": {},
   "outputs": [],
   "source": []
  }
 ],
 "metadata": {
  "kernelspec": {
   "display_name": "Python 3",
   "language": "python",
   "name": "python3"
  },
  "language_info": {
   "codemirror_mode": {
    "name": "ipython",
    "version": 3
   },
   "file_extension": ".py",
   "mimetype": "text/x-python",
   "name": "python",
   "nbconvert_exporter": "python",
   "pygments_lexer": "ipython3",
   "version": "3.7.2"
  }
 },
 "nbformat": 4,
 "nbformat_minor": 4
}
