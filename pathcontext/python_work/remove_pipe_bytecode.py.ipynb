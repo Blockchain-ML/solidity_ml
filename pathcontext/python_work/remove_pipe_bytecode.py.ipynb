{
 "cells": [
  {
   "cell_type": "code",
   "execution_count": 19,
   "metadata": {},
   "outputs": [],
   "source": [
    "import numpy as np\n",
    "import pandas as pd\n",
    "import subprocess\n",
    "import os\n",
    "import csv\n",
    "\n",
    "data = pd.read_csv(r'/dataset/origin/CDS_bytecode_v2x.csv',dtype={'label':object})\n",
    "# print(data)\n",
    "df = pd.DataFrame(data)\n",
    "# print(df)\n",
    "idy = df[\"_id\"]\n",
    "flag = False\n",
    "for index, row in data.iterrows():\n",
    " \n",
    "    byt = row[\"bytecode\"]\n",
    "    idy = row[\"_id\"]\n",
    "    name = row[\"name\"]\n",
    "    label = row[\"label\"]\n",
    "    new =  byt.split(\"|\") \n",
    "    byte_new = new[0]\n",
    "    if byte_new == \"\":\n",
    "        byte_new = new[1]\n",
    "    else:\n",
    "        byte_new = new[0]\n",
    "        \n",
    "    \n",
    "#print(byte_new)\n",
    "#     with open('./CDS_newbytcode_v2x.csv', 'a') as file:\n",
    "#         fieldnames = ['_id', 'name',\"bytecode\" ,'label']\n",
    "#         writer = csv.DictWriter(file, fieldnames=fieldnames)\n",
    "#         if not flag:\n",
    "#             writer.writeheader()\n",
    "#             flag = True\n",
    "#         writer.writerow({'_id': idy, 'name': name,'bytecode':byte_new,'label':label })\n",
    "\n",
    "\n"
   ]
  },
  {
   "cell_type": "code",
   "execution_count": 20,
   "metadata": {},
   "outputs": [
    {
     "name": "stdout",
     "output_type": "stream",
     "text": [
      "          _id                                        name  \\\n",
      "0       10001                                01_say_hello   \n",
      "1       10005            04_lottery_10_users_adamskrodzki   \n",
      "2       10007                 06_lottery_multiple_winners   \n",
      "3       10010                             09_erc_20_token   \n",
      "4       10011  0x01f8c4e3fa3edeb29e514cba738d87ce8c091d3f   \n",
      "...       ...                                         ...   \n",
      "67672  121816                                      121816   \n",
      "67673  121818                                      121818   \n",
      "67674  121819                                      121819   \n",
      "67675  121820                                      121820   \n",
      "67676  121821                                      121821   \n",
      "\n",
      "                                                bytecode                label  \n",
      "0      608060405234801561001057600080fd5b506040516105...   000000000000000100  \n",
      "1      608060405234801561001057600080fd5b506040516020...   000000000001000000  \n",
      "2      6080604052600060015534801561001557600080fd5b50...   010000000000001000  \n",
      "3      608060405234801561001057600080fd5b50604051610a...   000000010000000000  \n",
      "4      6060604052341561000f57600080fd5b6105ad8061001e...   001001000001000000  \n",
      "...                                                  ...                  ...  \n",
      "67672  6060604052604060405190810160405280600781526020...  110000001001010000   \n",
      "67673  6060604052426000556000600160146101000a81548160...  010000000000011100   \n",
      "67674  6080604052635ba4429060005560408051908101604052...  011001000001110000   \n",
      "67675  606060405260008060146101000a81548160ff02191690...  110000000000001001   \n",
      "67676  608060405266127a914955d400600055640c1c39882060...  000000000000010000   \n",
      "\n",
      "[67677 rows x 4 columns]\n"
     ]
    }
   ],
   "source": [
    "import numpy as np\n",
    "import pandas as pd\n",
    "import subprocess\n",
    "import os\n",
    "import csv\n",
    "\n",
    "data = pd.read_csv(r'./CDS_newbytcode_v2x.csv',dtype={'label':object})\n",
    "print(data)\n",
    "df = pd.DataFrame(data)"
   ]
  },
  {
   "cell_type": "code",
   "execution_count": null,
   "metadata": {},
   "outputs": [],
   "source": []
  }
 ],
 "metadata": {
  "kernelspec": {
   "display_name": "Python 3",
   "language": "python",
   "name": "python3"
  },
  "language_info": {
   "codemirror_mode": {
    "name": "ipython",
    "version": 3
   },
   "file_extension": ".py",
   "mimetype": "text/x-python",
   "name": "python",
   "nbconvert_exporter": "python",
   "pygments_lexer": "ipython3",
   "version": "3.7.2"
  }
 },
 "nbformat": 4,
 "nbformat_minor": 4
}
