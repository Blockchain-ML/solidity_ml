{
 "cells": [
  {
   "cell_type": "code",
   "execution_count": 4,
   "metadata": {},
   "outputs": [],
   "source": [
    "import numpy as np\n",
    "import torch\n",
    "from torch.utils.data import Dataset\n",
    "\n",
    "\n",
    "# Transforms data, loaded from PathMiner's output, to format suitable for model training.\n",
    "class PathMinerDataset(Dataset):\n",
    "\n",
    "    # Converts data to PyTorch Tensors for further usage in the model\n",
    "    # Number of contexts per file is limited to allow fast computations\n",
    "    def __init__(self, loader, indices, keep_contexts=200):\n",
    "        self.size = len(indices)\n",
    "        sample = loader.path_contexts.iloc[indices]\n",
    "        self.ids = sample['id']\n",
    "        self.labels = torch.FloatTensor(sample['project'].values)\n",
    "        self.starts, self.paths, self.ends = self._cut_contexts(sample['path_contexts'], keep_contexts)\n",
    "\n",
    "    # Pick random contexts from each file if there are too many of them\n",
    "    def _cut_contexts(self, all_contexts, keep_contexts):\n",
    "        starts = np.zeros((self.size, keep_contexts))\n",
    "        paths = np.zeros((self.size, keep_contexts))\n",
    "        ends = np.zeros((self.size, keep_contexts))\n",
    "        for i, contexts in enumerate(all_contexts):\n",
    "            if len(contexts) > keep_contexts:\n",
    "                np.random.shuffle(contexts)\n",
    "                contexts = contexts[:keep_contexts]\n",
    "            for j, context in enumerate(contexts):\n",
    "                starts[i, j] = context.start_token\n",
    "                paths[i, j] = context.path\n",
    "                ends[i, j] = context.end_token\n",
    "        return torch.LongTensor(starts), torch.LongTensor(paths), torch.LongTensor(ends)\n",
    "\n",
    "    def __len__(self):\n",
    "        return self.size\n",
    "\n",
    "    def __getitem__(self, index):\n",
    "        return {'contexts': (self.starts[index], self.paths[index], self.ends[index]),\n",
    "                'labels': self.labels[index],\n",
    "                'ids': self.ids.iloc[index]}\n"
   ]
  },
  {
   "cell_type": "code",
   "execution_count": null,
   "metadata": {},
   "outputs": [],
   "source": []
  }
 ],
 "metadata": {
  "kernelspec": {
   "display_name": "Python 3",
   "language": "python",
   "name": "python3"
  },
  "language_info": {
   "codemirror_mode": {
    "name": "ipython",
    "version": 3
   },
   "file_extension": ".py",
   "mimetype": "text/x-python",
   "name": "python",
   "nbconvert_exporter": "python",
   "pygments_lexer": "ipython3",
   "version": "3.7.4"
  }
 },
 "nbformat": 4,
 "nbformat_minor": 2
}
