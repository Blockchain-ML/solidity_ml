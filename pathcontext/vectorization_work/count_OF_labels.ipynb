{
 "cells": [
  {
   "cell_type": "code",
   "execution_count": 4,
   "metadata": {},
   "outputs": [
    {
     "name": "stdout",
     "output_type": "stream",
     "text": [
      "67677\n",
      "[4162, 20057, 1282, 70, 915, 40304, 655, 389, 10338, 119, 11589, 12346, 4828, 35470, 18140, 16019, 1391, 1129]\n",
      "No. of codes with No vulnerabilities:0\n"
     ]
    }
   ],
   "source": [
    "import pandas as pd\n",
    "import sys\n",
    "import glob\n",
    "import os.path\n",
    "import sklearn\n",
    "from imblearn.combine import SMOTETomek\n",
    "from imblearn.under_sampling import NearMiss\n",
    "import numpy as np\n",
    "col_list = [\"Error_Label\" , \"ID\"]\n",
    "sol_data= pd.read_csv(r\"/home/supriya/CDS_vectorization_v2x.csv\",dtype={'Error_Label':object} )\n",
    "id=(sol_data[\"Error_Label\"])\n",
    "length=len(sol_data[\"ID\"])\n",
    "print(length)\n",
    "#print(id)\n",
    "total=0\n",
    "no_of_errors = [0]*18\n",
    "safe_code=0\n",
    "vec_total=0\n",
    "#vectors=[]\n",
    "for error_label in id:\n",
    "    #print(error_label)\n",
    "    total+=1\n",
    "\n",
    "    if error_label==\"000000000000000000\":\n",
    "        safe_code+=1\n",
    "    else:\n",
    "        for pos, error in enumerate(error_label):\n",
    "            if error=='1':\n",
    "                no_of_errors[pos]+=1\n",
    "#print(len(errors)) \n",
    "\n",
    "print(no_of_errors)\n",
    "print(\"No. of codes with No vulnerabilities:\"+ str(safe_code))"
   ]
  },
  {
   "cell_type": "code",
   "execution_count": null,
   "metadata": {},
   "outputs": [],
   "source": []
  }
 ],
 "metadata": {
  "kernelspec": {
   "display_name": "Python 3",
   "language": "python",
   "name": "python3"
  },
  "language_info": {
   "codemirror_mode": {
    "name": "ipython",
    "version": 3
   },
   "file_extension": ".py",
   "mimetype": "text/x-python",
   "name": "python",
   "nbconvert_exporter": "python",
   "pygments_lexer": "ipython3",
   "version": "3.7.2"
  }
 },
 "nbformat": 4,
 "nbformat_minor": 4
}
