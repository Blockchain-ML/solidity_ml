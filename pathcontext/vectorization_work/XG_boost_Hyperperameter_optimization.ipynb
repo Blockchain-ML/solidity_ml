{
 "cells": [
  {
   "cell_type": "code",
   "execution_count": 1,
   "metadata": {},
   "outputs": [],
   "source": [
    "\n",
    "import numpy as np\n",
    "import pandas as pd\n",
    "import sklearn\n",
    "import scipy\n",
    "from sklearn.metrics import classification_report,accuracy_score\n",
    "from sklearn.ensemble import IsolationForest\n",
    "from sklearn.neighbors import LocalOutlierFactor\n",
    "from sklearn.svm import OneClassSVM\n",
    "from pylab import rcParams\n",
    "#from sklearn.cross_validation import train_test_split\n",
    "from sklearn.tree import DecisionTreeClassifier\n",
    "from sklearn.metrics import accuracy_score\n",
    "from sklearn import tree\n",
    "from sklearn import preprocessing\n",
    "#data = pd.read_csv(r'/home/supriya/CDS_vectorization_v2x.csv',dtype={'Error_Label':object} )\n",
    "data = pd.read_csv(r'/home/supriya/Hybrid_v2_v2x.csv',dtype={'Error_Label':object} )\n"
   ]
  },
  {
   "cell_type": "code",
   "execution_count": 2,
   "metadata": {},
   "outputs": [
    {
     "name": "stdout",
     "output_type": "stream",
     "text": [
      "(67677, 1399) (67677,)\n"
     ]
    }
   ],
   "source": [
    "# split labels and return new dataframe\n",
    "#Create independent and Dependent Features\n",
    "ERROR_LABEL=6\n",
    "def split_label_dict(df):\n",
    "    # Change 'label' to whatever naming used in the original DataFrame.\n",
    "    temp_df = df['Error_Label'].str.split(\"\", n = -1, expand = True)\n",
    "    for i in range(1, 19):\n",
    "        df[f'l{i}'] = temp_df[i]\n",
    "        df[f'l{i}'] = pd.to_numeric(df[f'l{i}'])\n",
    "    return df\n",
    "\n",
    "newdata=split_label_dict(data)\n",
    "#print(newdata)\n",
    "#Create independent and Dependent Features\n",
    "df = pd.DataFrame(data)\n",
    "new_df = df.drop(['Error_Label','l18','l17','l16','l15','l14','l13','l12','l11','l10','l9','l8','l7','l6','l5','l3','l4','l2','l1', 'ID'],axis=1)\n",
    "#new_df = data.drop(['Error_Label','ID'],axis=1)\n",
    "X = new_df\n",
    "# Store the variable we are predicting \n",
    "Y = newdata[f\"l{ERROR_LABEL}\"]\n",
    "\n",
    "# Print the shapes of X & Y\n",
    "print(X.shape,Y.shape)\n"
   ]
  },
  {
   "cell_type": "code",
   "execution_count": 3,
   "metadata": {},
   "outputs": [],
   "source": [
    "\n",
    "from sklearn.model_selection import train_test_split\n",
    "\n",
    "X_train,X_test, y_train,y_test = train_test_split(X,Y,test_size=0.3,random_state=69,stratify=Y)\n"
   ]
  },
  {
   "cell_type": "code",
   "execution_count": 4,
   "metadata": {},
   "outputs": [],
   "source": [
    "# Feature Scaling\n",
    "\n",
    "from sklearn.preprocessing import StandardScaler\n",
    "sc_X = StandardScaler()\n",
    "X_train = sc_X.fit_transform(X_train)\n",
    "X_test = sc_X.transform(X_test)\n"
   ]
  },
  {
   "cell_type": "code",
   "execution_count": 37,
   "metadata": {},
   "outputs": [],
   "source": [
    "\n",
    "## Hyper Parameter Optimization\n",
    "\n",
    "params={\n",
    " \"learning_rate\"    : [0.05, 0.10, 0.15, 0.20, 0.25, 0.30 ] ,\n",
    " \"max_depth\"        : [ 3, 4, 5, 6, 8, 10, 12, 15, 20,25,30,35],\n",
    " \"min_child_weight\" : [ 1, 3, 5, 7,9,11,15,19,24,29,30 ],\n",
    " \"gamma\"            : [ 0.0, 0.1, 0.2 , 0.3, 0.4 ],\n",
    " \"colsample_bytree\" : [ 0.3, 0.4, 0.5 , 0.7 ],\n",
    "    \"booster\":['gbtree', 'gblinear','dart'],\n",
    "    \"eta\":[0.05, 0.10, 0.15, 0.20, 0.25, 0.30,.40,.50,.60,.70,.80,.90],\n",
    "    \"tree_method\":['auto', 'exact', 'approx', 'hist', 'gpu_hist'],\n",
    "        \"updater\":['grow_colmaker','prune','grow_histmaker','grow_local_histmaker',\n",
    "               'grow_quantile_histmaker','grow_gpu_hist','sync','refresh'],\n",
    "\"grow_policy\":['depthwise', 'lossguide'],\n",
    "    \"lambda\":[0,1,2,3,4],\n",
    "    \"alpha\":[0,1,2,3,4], \"n_estimators\":[100,200,300,400,500],\n",
    "    \"sampling_method\":['uniform','gradient_based'],\n",
    "    \"subsample\":[.01,.02]\n",
    "}"
   ]
  },
  {
   "cell_type": "code",
   "execution_count": 5,
   "metadata": {},
   "outputs": [],
   "source": [
    "## Hyper Parameter Optimization\n",
    "\n",
    "params={\n",
    "    \"learning_rate\"    : [0.05, 0.10, 0.15, 0.20, 0.25, 0.30 ] ,\n",
    " \"max_depth\"        : [ 3, 4, 5, 6, 8, 10, 12, 15, 20,25,30,35],\n",
    " \"min_child_weight\" : [ 1, 3, 5, 7,9,11,15,19,24,29,30 ],\n",
    " \"gamma\"            : [ 0.0, 0.1, 0.2 , 0.3, 0.4 ],\n",
    " \"colsample_bytree\" : [ 0.3, 0.4, 0.5 , 0.7 ],\n",
    "    \"booster\":['gbtree', 'gblinear','dart'],\n",
    "    \"eta\":[0.05, 0.10, 0.15, 0.20, 0.25, 0.30,.40,.50,.60,.70,.80,.90],\n",
    "    \"tree_method\":['auto', 'exact', 'approx', 'hist', 'gpu_hist'],\n",
    "\"grow_policy\":['depthwise', 'lossguide'],\n",
    "    \"reg_lambda\":[0,1,2,3,4],\n",
    "    \"alpha\":[0,1,2,3,4],\n",
    "    \"n_estimators\":[100,200,300,400,500],\n",
    "    \"sampling_method\":['uniform','gradient_based'],\n",
    "    \"subsample\":[.01,.02]\n",
    "}"
   ]
  },
  {
   "cell_type": "code",
   "execution_count": 6,
   "metadata": {},
   "outputs": [],
   "source": [
    "def timer(start_time=None):\n",
    "    if not start_time:\n",
    "        start_time = datetime.now()\n",
    "        return start_time\n",
    "    elif start_time:\n",
    "        thour, temp_sec = divmod((datetime.now() - start_time).total_seconds(), 3600)\n",
    "        tmin, tsec = divmod(temp_sec, 60)\n",
    "        print('\\n Time taken: %i hours %i minutes and %s seconds.' % (thour, tmin, round(tsec, 2)))"
   ]
  },
  {
   "cell_type": "code",
   "execution_count": 7,
   "metadata": {},
   "outputs": [],
   "source": [
    "\n",
    "## Hyperparameter optimization using RandomizedSearchCV\n",
    "from sklearn.model_selection import RandomizedSearchCV, GridSearchCV\n",
    "import xgboost\n",
    "classifier=xgboost.XGBClassifier()\n",
    "random_search=RandomizedSearchCV(classifier,param_distributions=params,n_iter=5,scoring='roc_auc',n_jobs=-1,cv=5,verbose=3)"
   ]
  },
  {
   "cell_type": "code",
   "execution_count": 8,
   "metadata": {},
   "outputs": [
    {
     "name": "stdout",
     "output_type": "stream",
     "text": [
      "Fitting 5 folds for each of 5 candidates, totalling 25 fits\n"
     ]
    },
    {
     "name": "stderr",
     "output_type": "stream",
     "text": [
      "[Parallel(n_jobs=-1)]: Using backend LokyBackend with 24 concurrent workers.\n",
      "[Parallel(n_jobs=-1)]: Done   5 out of  25 | elapsed:    3.3s remaining:   13.2s\n",
      "[Parallel(n_jobs=-1)]: Done  14 out of  25 | elapsed:   31.8s remaining:   25.0s\n",
      "[Parallel(n_jobs=-1)]: Done  23 out of  25 | elapsed:  9.0min remaining:   47.2s\n",
      "[Parallel(n_jobs=-1)]: Done  25 out of  25 | elapsed: 10.0min finished\n"
     ]
    },
    {
     "name": "stdout",
     "output_type": "stream",
     "text": [
      "\n",
      " Time taken: 0 hours 14 minutes and 27.96 seconds.\n"
     ]
    }
   ],
   "source": [
    "from datetime import datetime\n",
    "# Here we go\n",
    "start_time = timer(None) # timing starts from this point for \"start_time\" variable\n",
    "random_search.fit(X_train,y_train)\n",
    "timer(start_time) # timing ends here for \"start_time\" variable"
   ]
  },
  {
   "cell_type": "code",
   "execution_count": 9,
   "metadata": {},
   "outputs": [
    {
     "data": {
      "text/plain": [
       "XGBClassifier(alpha=2, base_score=0.5, booster='dart', colsample_bylevel=1,\n",
       "              colsample_bynode=1, colsample_bytree=0.5, eta=0.15, gamma=0.0,\n",
       "              gpu_id=-1, grow_policy='lossguide', importance_type='gain',\n",
       "              interaction_constraints='', learning_rate=0.150000006,\n",
       "              max_delta_step=0, max_depth=4, min_child_weight=11, missing=nan,\n",
       "              monotone_constraints='()', n_estimators=500, n_jobs=0,\n",
       "              num_parallel_tree=1, random_state=0, reg_alpha=2, reg_lambda=3,\n",
       "              sampling_method='uniform', scale_pos_weight=1, subsample=1,\n",
       "              tree_method='hist', validate_parameters=1, verbosity=None)"
      ]
     },
     "execution_count": 9,
     "metadata": {},
     "output_type": "execute_result"
    }
   ],
   "source": [
    "random_search.best_estimator_"
   ]
  },
  {
   "cell_type": "code",
   "execution_count": 55,
   "metadata": {},
   "outputs": [
    {
     "data": {
      "text/plain": [
       "{'tree_method': 'exact',\n",
       " 'sampling_method': 'gradient_based',\n",
       " 'reg_lambda': 2,\n",
       " 'n_estimators': 100,\n",
       " 'min_child_weight': 5,\n",
       " 'max_depth': 8,\n",
       " 'grow_policy': 'depthwise',\n",
       " 'gamma': 0.2,\n",
       " 'eta': 0.3,\n",
       " 'colsample_bytree': 0.4,\n",
       " 'booster': 'dart',\n",
       " 'alpha': 0}"
      ]
     },
     "execution_count": 55,
     "metadata": {},
     "output_type": "execute_result"
    }
   ],
   "source": [
    "random_search.best_params_"
   ]
  },
  {
   "cell_type": "code",
   "execution_count": 5,
   "metadata": {},
   "outputs": [
    {
     "name": "stdout",
     "output_type": "stream",
     "text": [
      "(56424, 1399) (56424,)\n",
      "Original dataset shape Counter({1: 28212, 0: 19161})\n",
      "Resampled dataset shape Counter({0: 28212, 1: 28212})\n"
     ]
    }
   ],
   "source": [
    "from imblearn.combine import SMOTETomek\n",
    "from imblearn.over_sampling import SMOTE\n",
    "from collections import Counter\n",
    "smk = SMOTE()\n",
    "X_res,y_res=smk.fit_sample(X_train.astype('float'),y_train)\n",
    "print(X_res.shape,y_res.shape)\n",
    "print('Original dataset shape {}'.format(Counter(y_train)))\n",
    "print('Resampled dataset shape {}'.format(Counter(y_res)))"
   ]
  },
  {
   "cell_type": "code",
   "execution_count": 6,
   "metadata": {},
   "outputs": [
    {
     "name": "stdout",
     "output_type": "stream",
     "text": [
      "0.7029156816390859\n"
     ]
    },
    {
     "data": {
      "text/html": [
       "<div>\n",
       "<style scoped>\n",
       "    .dataframe tbody tr th:only-of-type {\n",
       "        vertical-align: middle;\n",
       "    }\n",
       "\n",
       "    .dataframe tbody tr th {\n",
       "        vertical-align: top;\n",
       "    }\n",
       "\n",
       "    .dataframe thead th {\n",
       "        text-align: right;\n",
       "    }\n",
       "</style>\n",
       "<table border=\"1\" class=\"dataframe\">\n",
       "  <thead>\n",
       "    <tr style=\"text-align: right;\">\n",
       "      <th>col_0</th>\n",
       "      <th>0</th>\n",
       "      <th>1</th>\n",
       "    </tr>\n",
       "    <tr>\n",
       "      <th>l6</th>\n",
       "      <th></th>\n",
       "      <th></th>\n",
       "    </tr>\n",
       "  </thead>\n",
       "  <tbody>\n",
       "    <tr>\n",
       "      <th>0</th>\n",
       "      <td>5598</td>\n",
       "      <td>2614</td>\n",
       "    </tr>\n",
       "    <tr>\n",
       "      <th>1</th>\n",
       "      <td>3418</td>\n",
       "      <td>8674</td>\n",
       "    </tr>\n",
       "  </tbody>\n",
       "</table>\n",
       "</div>"
      ],
      "text/plain": [
       "col_0     0     1\n",
       "l6               \n",
       "0      5598  2614\n",
       "1      3418  8674"
      ]
     },
     "execution_count": 6,
     "metadata": {},
     "output_type": "execute_result"
    }
   ],
   "source": [
    "## Hyperparameter optimization using RandomizedSearchCV\n",
    "from sklearn.model_selection import RandomizedSearchCV, GridSearchCV\n",
    "import xgboost\n",
    "classifier=xgboost.XGBClassifier(alpha=1, base_score=0.5, booster='dart', colsample_bylevel=1,\n",
    "              colsample_bynode=1, colsample_bytree=0.4, eta=0.2, gamma=0.3,\n",
    "              gpu_id=-1, grow_policy='depthwise', importance_type='gain',\n",
    "              interaction_constraints='', learning_rate=0.3, max_delta_step=0,\n",
    "              max_depth=8, min_child_weight=29,\n",
    "              monotone_constraints='()', n_estimators=100, n_jobs=0,\n",
    "              num_parallel_tree=1, random_state=0, reg_alpha=1, reg_lambda=1,\n",
    "              sampling_method='uniform', scale_pos_weight=1, subsample=0.01,\n",
    "              tree_method='exact', validate_parameters=1, verbosity=None)\n",
    "classifier.fit(X_res,y_res)\n",
    "#classifier.fit(X_res,y_res)\n",
    "# Predicting the test set results\n",
    "y_predict = classifier.predict(X_test)\n",
    "print(accuracy_score(y_test,y_predict))\n",
    "pd.crosstab(y_test,y_predict)"
   ]
  },
  {
   "cell_type": "code",
   "execution_count": 33,
   "metadata": {},
   "outputs": [
    {
     "name": "stdout",
     "output_type": "stream",
     "text": [
      "(17078, 501) (17078,)\n",
      "Original dataset shape Counter({0: 10116, 1: 8539})\n",
      "Resampled dataset shape Counter({0: 8539, 1: 8539})\n"
     ]
    }
   ],
   "source": [
    "from imblearn.under_sampling import RandomUnderSampler\n",
    "rus = RandomUnderSampler(random_state=69)\n",
    "X_resampled, y_resampled = rus.fit_resample(X_test, y_test)\n",
    "print(X_resampled.shape, y_resampled.shape )\n",
    "from collections import Counter\n",
    "print('Original dataset shape {}'.format(Counter(y_test)))\n",
    "print('Resampled dataset shape {}'.format(Counter(y_resampled)))"
   ]
  },
  {
   "cell_type": "code",
   "execution_count": 34,
   "metadata": {},
   "outputs": [
    {
     "name": "stdout",
     "output_type": "stream",
     "text": [
      "0.6285864855369481\n"
     ]
    },
    {
     "data": {
      "text/html": [
       "<div>\n",
       "<style scoped>\n",
       "    .dataframe tbody tr th:only-of-type {\n",
       "        vertical-align: middle;\n",
       "    }\n",
       "\n",
       "    .dataframe tbody tr th {\n",
       "        vertical-align: top;\n",
       "    }\n",
       "\n",
       "    .dataframe thead th {\n",
       "        text-align: right;\n",
       "    }\n",
       "</style>\n",
       "<table border=\"1\" class=\"dataframe\">\n",
       "  <thead>\n",
       "    <tr style=\"text-align: right;\">\n",
       "      <th>col_0</th>\n",
       "      <th>0</th>\n",
       "      <th>1</th>\n",
       "    </tr>\n",
       "    <tr>\n",
       "      <th>l14</th>\n",
       "      <th></th>\n",
       "      <th></th>\n",
       "    </tr>\n",
       "  </thead>\n",
       "  <tbody>\n",
       "    <tr>\n",
       "      <th>0</th>\n",
       "      <td>6104</td>\n",
       "      <td>2435</td>\n",
       "    </tr>\n",
       "    <tr>\n",
       "      <th>1</th>\n",
       "      <td>3908</td>\n",
       "      <td>4631</td>\n",
       "    </tr>\n",
       "  </tbody>\n",
       "</table>\n",
       "</div>"
      ],
      "text/plain": [
       "col_0     0     1\n",
       "l14              \n",
       "0      6104  2435\n",
       "1      3908  4631"
      ]
     },
     "execution_count": 34,
     "metadata": {},
     "output_type": "execute_result"
    }
   ],
   "source": [
    "# Predicting the test set results\n",
    "y_predict = classifier.predict(X_resampled)\n",
    "print(accuracy_score(y_resampled,y_predict))\n",
    "pd.crosstab(y_resampled,y_predict)"
   ]
  },
  {
   "cell_type": "code",
   "execution_count": 26,
   "metadata": {},
   "outputs": [
    {
     "name": "stdout",
     "output_type": "stream",
     "text": [
      "[[7216 2900]\n",
      " [3908 4631]]\n",
      "              precision    recall  f1-score   support\n",
      "\n",
      "           0       0.65      0.71      0.68     10116\n",
      "           1       0.61      0.54      0.58      8539\n",
      "\n",
      "    accuracy                           0.64     18655\n",
      "   macro avg       0.63      0.63      0.63     18655\n",
      "weighted avg       0.63      0.64      0.63     18655\n",
      "\n",
      "0.6278302965608313\n"
     ]
    }
   ],
   "source": [
    "from sklearn.metrics import classification_report,confusion_matrix\n",
    "from sklearn.model_selection import cross_val_score \n",
    "from sklearn.metrics import roc_auc_score\n",
    "from sklearn.metrics import f1_score\n",
    "import pickle\n",
    "results=classification_report(y_test,y_predict)\n",
    "macro=f1_score(y_test, y_predict, average='macro')\n",
    "micro=f1_score(y_test, y_predict, average='micro')\n",
    "weighted=f1_score(y_test, y_predict, average='weighted')\n",
    "avg=f1_score(y_test, y_predict, average=None)\n",
    "\n",
    "accuracy_score=accuracy_score(y_test,y_predict)\n",
    "cm = confusion_matrix(y_test, y_predict)\n",
    "roc=roc_auc_score(y_test,y_predict)\n",
    "\n",
    "print(cm)\n",
    "\n",
    "print(results) \n",
    "print(roc)\n",
    "#print(accuracy_score)\n"
   ]
  },
  {
   "cell_type": "code",
   "execution_count": null,
   "metadata": {},
   "outputs": [],
   "source": []
  }
 ],
 "metadata": {
  "kernelspec": {
   "display_name": "Python 3",
   "language": "python",
   "name": "python3"
  },
  "language_info": {
   "codemirror_mode": {
    "name": "ipython",
    "version": 3
   },
   "file_extension": ".py",
   "mimetype": "text/x-python",
   "name": "python",
   "nbconvert_exporter": "python",
   "pygments_lexer": "ipython3",
   "version": "3.7.2"
  }
 },
 "nbformat": 4,
 "nbformat_minor": 4
}
