{
 "cells": [
  {
   "cell_type": "code",
   "execution_count": 1,
   "metadata": {},
   "outputs": [
    {
     "name": "stdout",
     "output_type": "stream",
     "text": [
      "[3271, 15000, 925, 58, 465, 29450, 517, 295, 6901, 85, 9187, 9138, 2190, 28366, 13846, 11345, 1092, 967]\n",
      "No. of codes with No vulnerabilities:12314\n",
      "No. of codes with vulnerabilities:49869\n"
     ]
    }
   ],
   "source": [
    "import pandas as pd\n",
    "import sys\n",
    "import glob\n",
    "import os.path\n",
    "import sklearn\n",
    "from imblearn.combine import SMOTETomek\n",
    "from imblearn.under_sampling import NearMiss\n",
    "import numpy as np\n",
    "col_list = [\"Error_Label\" , \"ID\"]\n",
    "sol_data= pd.read_csv(r\"CDS_vectorization_v1.csv\",dtype={'Error_Label':object} )\n",
    "id=(sol_data[\"Error_Label\"])\n",
    "length=len(sol_data[\"ID\"])\n",
    "#print(length)\n",
    "#print(id)\n",
    "total=0\n",
    "no_of_errors = [0]*18\n",
    "safe_code=0\n",
    "vec_total=0\n",
    "#vectors=[]\n",
    "for error_label in id:\n",
    "    #print(error_label)\n",
    "    total+=1\n",
    "\n",
    "    if error_label==\"000000000000000000\":\n",
    "        safe_code+=1\n",
    "    else:\n",
    "        for pos, error in enumerate(error_label):\n",
    "            if error=='1':\n",
    "                no_of_errors[pos]+=1\n",
    "#print(len(errors)) \n",
    "Vul_code=total-safe_code\n",
    "print(no_of_errors)\n",
    "print(\"No. of codes with No vulnerabilities:\"+ str(safe_code))\n",
    "print(\"No. of codes with vulnerabilities:\"+ str(Vul_code))\n",
    " "
   ]
  },
  {
   "cell_type": "code",
   "execution_count": 2,
   "metadata": {},
   "outputs": [
    {
     "name": "stdout",
     "output_type": "stream",
     "text": [
      "[1007, 5350, 400, 15, 470, 11354, 145, 94, 3603, 36, 3001, 4406, 2766, 8482, 4578, 4866, 349, 169]\n",
      "No. of codes with No vulnerabilities:4249\n",
      "No. of codes with vulnerabilities:19572\n"
     ]
    }
   ],
   "source": [
    "import pandas as pd\n",
    "import sys\n",
    "import glob\n",
    "import os.path\n",
    "import sklearn\n",
    "from imblearn.combine import SMOTETomek\n",
    "from imblearn.under_sampling import NearMiss\n",
    "import numpy as np\n",
    "\n",
    "sol_data= pd.read_csv(r\"/home/supriya/etherscan_dataset/23k.csv\",dtype={'label':object})\n",
    "id=(sol_data[\"label\"])\n",
    "#print(sol_data)\n",
    "#print(id)\n",
    "total=0\n",
    "no_of_errors = [0]*18\n",
    "safe_code=0\n",
    "vec_total=0\n",
    "#vectors=[]\n",
    "for error_label in id:\n",
    "    #print(error_label)\n",
    "    total+=1\n",
    "\n",
    "    if error_label==\"000000000000000000\":\n",
    "        safe_code+=1\n",
    "    else:\n",
    "        for pos, error in enumerate(error_label):\n",
    "            if error=='1':\n",
    "                no_of_errors[pos]+=1\n",
    "#print(len(errors)) \n",
    "Vul_code=total-safe_code\n",
    "print(no_of_errors)\n",
    "print(\"No. of codes with No vulnerabilities:\"+ str(safe_code))\n",
    "print(\"No. of codes with vulnerabilities:\"+ str(Vul_code))\n",
    " "
   ]
  },
  {
   "cell_type": "code",
   "execution_count": 4,
   "metadata": {},
   "outputs": [
    {
     "name": "stdout",
     "output_type": "stream",
     "text": [
      "          _id    name                                               code  \\\n",
      "0       97001   97001  pragma solidity ^0.5.0;\\n \\ninterface IERC20 {...   \n",
      "1       97002   97002  pragma solidity ^0.5.16;\\n\\ninterface IERC20 {...   \n",
      "2       97003   97003  pragma solidity ^0.5.8;\\n \\n \\n\\nlibrary SafeM...   \n",
      "3       97004   97004  {{\\n  \"language\": \"Solidity\",\\n  \"sources\": {\\...   \n",
      "4       97005   97005   \\npragma solidity >=0.4.22 <0.8.0;\\n\\n \\n\\n\\n...   \n",
      "...       ...     ...                                                ...   \n",
      "23816  121817  121817   \\ncontract MoonGangCoin {\\n     \\n    string ...   \n",
      "23817  121818  121818   \\npragma solidity ^0.4.18;\\n\\nlibrary SafeMat...   \n",
      "23818  121819  121819   \\npragma solidity ^0.4.24;\\n\\n \\n\\n\\n \\ncontr...   \n",
      "23819  121820  121820   \\npragma solidity ^0.4.16;\\n\\ncontract Ethraf...   \n",
      "23820  121821  121821   \\npragma solidity ^0.4.24;\\n\\ncontract ERC20I...   \n",
      "\n",
      "                    label  \n",
      "0      010001000000001000  \n",
      "1      000010000000000100  \n",
      "2      000000000000000000  \n",
      "3      000000000000000000  \n",
      "4      000001000000000000  \n",
      "...                   ...  \n",
      "23816  000000000001010000  \n",
      "23817  010000000000011100  \n",
      "23818  011001000001110000  \n",
      "23819  110000000000001001  \n",
      "23820  000000000000010000  \n",
      "\n",
      "[23821 rows x 4 columns]\n"
     ]
    }
   ],
   "source": [
    "import pandas as pd\n",
    "import sys\n",
    "import glob\n",
    "import os.path\n",
    "import sklearn\n",
    "from imblearn.combine import SMOTETomek\n",
    "from imblearn.under_sampling import NearMiss\n",
    "import numpy as np\n",
    "\n",
    "sol_data= pd.read_csv(r\"/home/supriya/etherscan_dataset/23k.csv\",dtype={'label':object} )\n",
    "\n",
    "print(sol_data)"
   ]
  },
  {
   "cell_type": "code",
   "execution_count": null,
   "metadata": {},
   "outputs": [],
   "source": []
  }
 ],
 "metadata": {
  "kernelspec": {
   "display_name": "Python 3",
   "language": "python",
   "name": "python3"
  },
  "language_info": {
   "codemirror_mode": {
    "name": "ipython",
    "version": 3
   },
   "file_extension": ".py",
   "mimetype": "text/x-python",
   "name": "python",
   "nbconvert_exporter": "python",
   "pygments_lexer": "ipython3",
   "version": "3.7.2"
  }
 },
 "nbformat": 4,
 "nbformat_minor": 4
}
