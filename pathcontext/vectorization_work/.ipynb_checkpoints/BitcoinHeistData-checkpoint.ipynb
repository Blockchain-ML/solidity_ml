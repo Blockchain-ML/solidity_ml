{
 "cells": [
  {
   "cell_type": "code",
   "execution_count": 5,
   "metadata": {},
   "outputs": [
    {
     "name": "stdout",
     "output_type": "stream",
     "text": [
      "                                    address  year  day  length     weight  \\\n",
      "0         111K8kZAEnJg245r2cM6y9zgJGHZtJPy6  2017   11      18   0.008333   \n",
      "1        1123pJv8jzeFQaCV4w644pzQJzVWay2zcA  2016  132      44   0.000244   \n",
      "2        112536im7hy6wtKbpH1qYDWtTyMRAcA2p7  2016  246       0   1.000000   \n",
      "3        1126eDRw2wqSkWosjTCre8cjjQW8sSeWH7  2016  322      72   0.003906   \n",
      "4        1129TSjKtx65E35GiUo4AYVeyo48twbrGX  2016  238     144   0.072848   \n",
      "...                                     ...   ...  ...     ...        ...   \n",
      "2916692  12D3trgho1vJ4mGtWBRPyHdMJK96TRYSry  2018  330       0   0.111111   \n",
      "2916693  1P7PputTcVkhXBmXBvSD9MJ3UYPsiou1u2  2018  330       0   1.000000   \n",
      "2916694  1KYiKJEfdJtap9QX2v9BXJMpz2SfU4pgZw  2018  330       2  12.000000   \n",
      "2916695  15iPUJsRNZQZHmZZVwmQ63srsmughCXV4a  2018  330       0   0.500000   \n",
      "2916696  3LFFBxp15h9KSFtaw55np8eP5fv6kdK17e  2018  330     144   0.073972   \n",
      "\n",
      "         count  looped  neighbors        income            label  \n",
      "0            1       0          2  1.000500e+08  princetonCerber  \n",
      "1            1       0          1  1.000000e+08   princetonLocky  \n",
      "2            1       0          2  2.000000e+08  princetonCerber  \n",
      "3            1       0          2  7.120000e+07  princetonCerber  \n",
      "4          456       0          1  2.000000e+08   princetonLocky  \n",
      "...        ...     ...        ...           ...              ...  \n",
      "2916692      1       0          1  1.255809e+09            white  \n",
      "2916693      1       0          1  4.409699e+07            white  \n",
      "2916694      6       6         35  2.398267e+09            white  \n",
      "2916695      1       0          1  1.780427e+08            white  \n",
      "2916696   6800       0          2  1.123500e+08            white  \n",
      "\n",
      "[2916697 rows x 10 columns]\n"
     ]
    }
   ],
   "source": [
    "import numpy as np\n",
    "import pandas as pd\n",
    "import sklearn\n",
    "import scipy\n",
    "import matplotlib.pyplot as plt\n",
    "from sklearn.metrics import classification_report,accuracy_score\n",
    "from sklearn.ensemble import IsolationForest\n",
    "from sklearn.neighbors import LocalOutlierFactor\n",
    "from sklearn.svm import OneClassSVM\n",
    "from pylab import rcParams\n",
    "#from sklearn.cross_validation import train_test_split\n",
    "from sklearn.tree import DecisionTreeClassifier\n",
    "from sklearn.metrics import accuracy_score\n",
    "from sklearn import tree\n",
    "from sklearn import preprocessing\n",
    "\n",
    "data = pd.read_csv('BitcoinHeistData.csv',sep=',')\n",
    "print(data)\n",
    "#data.head()"
   ]
  },
  {
   "cell_type": "code",
   "execution_count": 6,
   "metadata": {},
   "outputs": [
    {
     "name": "stdout",
     "output_type": "stream",
     "text": [
      "['princetonCerber' 'princetonLocky' 'montrealCryptoLocker'\n",
      " 'montrealCryptXXX' 'paduaCryptoWall' 'montrealWannaCry'\n",
      " 'montrealDMALockerv3' 'montrealCryptoTorLocker2015' 'montrealSamSam'\n",
      " 'montrealFlyper' 'montrealNoobCrypt' 'montrealDMALocker' 'montrealGlobe'\n",
      " 'montrealEDA2' 'paduaKeRanger' 'montrealVenusLocker' 'montrealXTPLocker'\n",
      " 'paduaJigsaw' 'montrealGlobev3' 'montrealJigSaw' 'montrealXLockerv5.0'\n",
      " 'montrealXLocker' 'montrealRazy' 'montrealCryptConsole'\n",
      " 'montrealGlobeImposter' 'montrealSam' 'montrealComradeCircle'\n",
      " 'montrealAPT' 'white']\n"
     ]
    }
   ],
   "source": [
    "uniqueValues = data['label'].unique()\n",
    "print(uniqueValues)"
   ]
  },
  {
   "cell_type": "code",
   "execution_count": 10,
   "metadata": {},
   "outputs": [
    {
     "data": {
      "text/plain": [
       "False"
      ]
     },
     "execution_count": 10,
     "metadata": {},
     "output_type": "execute_result"
    }
   ],
   "source": [
    "data.isnull().values.any()"
   ]
  },
  {
   "cell_type": "code",
   "execution_count": 7,
   "metadata": {},
   "outputs": [
    {
     "name": "stdout",
     "output_type": "stream",
     "text": [
      "Counter({'white': 2875284, 'paduaCryptoWall': 12390, 'montrealCryptoLocker': 9315, 'princetonCerber': 9223, 'princetonLocky': 6625, 'montrealCryptXXX': 2419, 'montrealNoobCrypt': 483, 'montrealDMALockerv3': 354, 'montrealDMALocker': 251, 'montrealSamSam': 62, 'montrealCryptoTorLocker2015': 55, 'montrealGlobeImposter': 55, 'montrealGlobev3': 34, 'montrealGlobe': 32, 'montrealWannaCry': 28, 'montrealRazy': 13, 'montrealAPT': 11, 'paduaKeRanger': 10, 'montrealFlyper': 9, 'montrealXTPLocker': 8, 'montrealVenusLocker': 7, 'montrealXLockerv5.0': 7, 'montrealCryptConsole': 7, 'montrealEDA2': 6, 'montrealJigSaw': 4, 'paduaJigsaw': 2, 'montrealXLocker': 1, 'montrealSam': 1, 'montrealComradeCircle': 1})\n"
     ]
    }
   ],
   "source": [
    "from collections import Counter\n",
    "import collections\n",
    "v1=data['label']\n",
    "v2=[\"montrealXLocker\",\"montrealSam\",\"montrealComradeCircle\",\"paduaJigsaw\",\"montrealJigSaw\"]\n",
    "hi=collections.Counter(v1)\n",
    "print(hi)"
   ]
  },
  {
   "cell_type": "code",
   "execution_count": 8,
   "metadata": {},
   "outputs": [
    {
     "name": "stdout",
     "output_type": "stream",
     "text": [
      "                                    address  year  day  length     weight  \\\n",
      "0         111K8kZAEnJg245r2cM6y9zgJGHZtJPy6  2017   11      18   0.008333   \n",
      "1        1123pJv8jzeFQaCV4w644pzQJzVWay2zcA  2016  132      44   0.000244   \n",
      "2        112536im7hy6wtKbpH1qYDWtTyMRAcA2p7  2016  246       0   1.000000   \n",
      "3        1126eDRw2wqSkWosjTCre8cjjQW8sSeWH7  2016  322      72   0.003906   \n",
      "4        1129TSjKtx65E35GiUo4AYVeyo48twbrGX  2016  238     144   0.072848   \n",
      "...                                     ...   ...  ...     ...        ...   \n",
      "2916692  12D3trgho1vJ4mGtWBRPyHdMJK96TRYSry  2018  330       0   0.111111   \n",
      "2916693  1P7PputTcVkhXBmXBvSD9MJ3UYPsiou1u2  2018  330       0   1.000000   \n",
      "2916694  1KYiKJEfdJtap9QX2v9BXJMpz2SfU4pgZw  2018  330       2  12.000000   \n",
      "2916695  15iPUJsRNZQZHmZZVwmQ63srsmughCXV4a  2018  330       0   0.500000   \n",
      "2916696  3LFFBxp15h9KSFtaw55np8eP5fv6kdK17e  2018  330     144   0.073972   \n",
      "\n",
      "         count  looped  neighbors        income            label  \n",
      "0            1       0          2  1.000500e+08  princetonCerber  \n",
      "1            1       0          1  1.000000e+08   princetonLocky  \n",
      "2            1       0          2  2.000000e+08  princetonCerber  \n",
      "3            1       0          2  7.120000e+07  princetonCerber  \n",
      "4          456       0          1  2.000000e+08   princetonLocky  \n",
      "...        ...     ...        ...           ...              ...  \n",
      "2916692      1       0          1  1.255809e+09            white  \n",
      "2916693      1       0          1  4.409699e+07            white  \n",
      "2916694      6       6         35  2.398267e+09            white  \n",
      "2916695      1       0          1  1.780427e+08            white  \n",
      "2916696   6800       0          2  1.123500e+08            white  \n",
      "\n",
      "[2916688 rows x 10 columns]\n"
     ]
    }
   ],
   "source": [
    "#df[~df['label'].isin(v2)]\n",
    "new_data=data[~data['label'].isin(v2)]\n",
    "#new_label=data.dropna(label=v2, inplace=True, axis=0)\n",
    "print(new_data)"
   ]
  },
  {
   "cell_type": "code",
   "execution_count": 9,
   "metadata": {},
   "outputs": [
    {
     "name": "stdout",
     "output_type": "stream",
     "text": [
      "(2916688, 8)\n",
      "(2916688,)\n"
     ]
    }
   ],
   "source": [
    "#Create independent and Dependent Features\n",
    "le = preprocessing.LabelEncoder()\n",
    "balance_data = new_data.apply(le.fit_transform)\n",
    "\n",
    "X = balance_data.values[:, 0:8]\n",
    "Y = balance_data.values[:,9]\n",
    "\n",
    "# Print the shapes of X & Y\n",
    "print(X.shape)\n",
    "print(Y.shape)"
   ]
  },
  {
   "cell_type": "code",
   "execution_count": 10,
   "metadata": {},
   "outputs": [],
   "source": [
    "from imblearn.over_sampling import SMOTE"
   ]
  },
  {
   "cell_type": "code",
   "execution_count": 14,
   "metadata": {},
   "outputs": [
    {
     "name": "stdout",
     "output_type": "stream",
     "text": [
      "(69006816, 8) (69006816,)\n"
     ]
    }
   ],
   "source": [
    "from imblearn.over_sampling import RandomOverSampler \n",
    "from imblearn.pipeline import make_pipeline\n",
    "from imblearn.over_sampling import SMOTE\n",
    "import random as r\n",
    "# Implementing Oversampling for Handling Imbalanced \n",
    "#smk = SMOTE(random_state=42)\n",
    "#fixed value is assigned like random_state = 0 or 1 or 42 or any other integer then no matter how many times you execute your code the result would be the same .i.e, same values in train and test datasets.\n",
    "#smk=SMOTE(k_neighbors=2)\n",
    "#X_res,y_res=smk.fit_sample(X,Y)\n",
    "smk = SMOTE(random_state=69)\n",
    "X_res,y_res=smk.fit_sample(X,Y)\n",
    "print(X_res.shape,y_res.shape)"
   ]
  },
  {
   "cell_type": "code",
   "execution_count": 15,
   "metadata": {},
   "outputs": [
    {
     "name": "stdout",
     "output_type": "stream",
     "text": [
      "Original dataset shape Counter({23: 2875284, 19: 12390, 3: 9315, 21: 9223, 22: 6625, 2: 2419, 12: 483, 6: 354, 5: 251, 14: 62, 4: 55, 10: 55, 11: 34, 9: 32, 16: 28, 13: 13, 0: 11, 20: 10, 8: 9, 18: 8, 15: 7, 17: 7, 1: 7, 7: 6})\n",
      "Resampled dataset shape Counter({21: 2875284, 22: 2875284, 3: 2875284, 2: 2875284, 19: 2875284, 16: 2875284, 6: 2875284, 4: 2875284, 14: 2875284, 8: 2875284, 12: 2875284, 5: 2875284, 9: 2875284, 7: 2875284, 20: 2875284, 15: 2875284, 18: 2875284, 11: 2875284, 17: 2875284, 13: 2875284, 1: 2875284, 10: 2875284, 0: 2875284, 23: 2875284})\n"
     ]
    }
   ],
   "source": [
    "from collections import Counter\n",
    "print('Original dataset shape {}'.format(Counter(Y)))\n",
    "print('Resampled dataset shape {}'.format(Counter(y_res)))"
   ]
  },
  {
   "cell_type": "code",
   "execution_count": null,
   "metadata": {},
   "outputs": [],
   "source": []
  }
 ],
 "metadata": {
  "kernelspec": {
   "display_name": "Python 3",
   "language": "python",
   "name": "python3"
  },
  "language_info": {
   "codemirror_mode": {
    "name": "ipython",
    "version": 3
   },
   "file_extension": ".py",
   "mimetype": "text/x-python",
   "name": "python",
   "nbconvert_exporter": "python",
   "pygments_lexer": "ipython3",
   "version": "3.7.2"
  }
 },
 "nbformat": 4,
 "nbformat_minor": 4
}
