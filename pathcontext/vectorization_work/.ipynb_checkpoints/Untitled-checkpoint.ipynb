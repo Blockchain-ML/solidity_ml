{
 "cells": [
  {
   "cell_type": "code",
   "execution_count": 5,
   "metadata": {},
   "outputs": [
    {
     "name": "stdout",
     "output_type": "stream",
     "text": [
      "   Error_Label                                 Vulnerability_Type  \\\n",
      "0           l1                 Unsafe array's length manipulation   \n",
      "1           l2                                        Costly loop   \n",
      "2           l3                  Use of call function with no data   \n",
      "3           l4                          Blockhash function misuse   \n",
      "4           l5                  Using tx.origin for authorization   \n",
      "5           l6                                  Hardcoded address   \n",
      "6           l7               Checking for strict balance equality   \n",
      "7           l8  Return value of transfer, transferFrom, or app...   \n",
      "8           l9                                       Locked money   \n",
      "9          l10      Strict comparison with block.timestamp or now   \n",
      "10         l11                        Redundant fallback function   \n",
      "11         l12                      Revert inside the if-operator   \n",
      "12         l13       Replace multiple return values with a struct   \n",
      "13         l14                           DEPRECATED_CONSTRUCTIONS   \n",
      "14         l15                              Extra gas consumption   \n",
      "15         l16                                   Overpowered role   \n",
      "16         l17                           Send instead of transfer   \n",
      "17         l18                       ETH transfer inside the loop   \n",
      "\n",
      "    This Type (Vulnerability)  The rest (Invulnerability)  Total  \\\n",
      "0                        3271                       58912  62183   \n",
      "1                       15000                       47183  62183   \n",
      "2                         925                       61258  62183   \n",
      "3                          58                       62125  62183   \n",
      "4                         465                       61718  62183   \n",
      "5                       29450                       32733  62183   \n",
      "6                         517                       61666  62183   \n",
      "7                         295                       61888  62183   \n",
      "8                        6901                       55282  62183   \n",
      "9                          85                       62098  62183   \n",
      "10                       9187                       52996  62183   \n",
      "11                       9138                       53045  62183   \n",
      "12                       2190                       59993  62183   \n",
      "13                      28366                       33817  62183   \n",
      "14                      13846                       48337  62183   \n",
      "15                      11345                       50838  62183   \n",
      "16                       1092                       61091  62183   \n",
      "17                        967                       61216  62183   \n",
      "\n",
      "   Original(1:0)   SMOTE(1:0)  \n",
      "0     3271:58912  58912:58912  \n",
      "1    15000:47183  47183:47183  \n",
      "2      925:61258  61258:61258  \n",
      "3       58:62125  62125:62125  \n",
      "4      465:61718  61718:61718  \n",
      "5    29450:32733  32733:32733  \n",
      "6      517:61666  61666:61666  \n",
      "7      295:61888  61888:61888  \n",
      "8     6901:55282  55282:55282  \n",
      "9       85:62098  62098:62098  \n",
      "10    9187:52996  52996:52996  \n",
      "11    9138:53045  53045:53045  \n",
      "12    2190:59993  59993:59993  \n",
      "13   28366:33817  33817:33817  \n",
      "14   13846:48337  48337:48337  \n",
      "15   11345:50838  50838:50838  \n",
      "16    1092:61091  61091:61091  \n",
      "17     967:61216  61216:61216  \n"
     ]
    }
   ],
   "source": [
    "import numpy as np\n",
    "import pandas as pd\n",
    "data = pd.read_csv('SMOTE.csv',dtype={'Error_Label':object} )\n",
    "print(data)"
   ]
  },
  {
   "cell_type": "code",
   "execution_count": null,
   "metadata": {},
   "outputs": [],
   "source": []
  }
 ],
 "metadata": {
  "kernelspec": {
   "display_name": "Python 3",
   "language": "python",
   "name": "python3"
  },
  "language_info": {
   "codemirror_mode": {
    "name": "ipython",
    "version": 3
   },
   "file_extension": ".py",
   "mimetype": "text/x-python",
   "name": "python",
   "nbconvert_exporter": "python",
   "pygments_lexer": "ipython3",
   "version": "3.7.2"
  }
 },
 "nbformat": 4,
 "nbformat_minor": 4
}
