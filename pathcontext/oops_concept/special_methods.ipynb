{
 "cells": [
  {
   "cell_type": "code",
   "execution_count": 11,
   "metadata": {},
   "outputs": [
    {
     "name": "stdout",
     "output_type": "stream",
     "text": [
      "Employee(supriya,shakya,500000)\n",
      "supriya shakya-supriya.shakya@iitp.ac.in\n",
      "Employee(supriya,shakya,500000)\n",
      "1100000\n"
     ]
    }
   ],
   "source": [
    "class Employee:\n",
    "    num_of_emps = 0\n",
    "    raise_amount = 1.04   #---CLASS VARIABLE---------->\n",
    "    def __init__(self,first,last,pay):\n",
    "        self.first = first\n",
    "        self.last = last\n",
    "        self.email = first+'.'+last+'@iitp.ac.in'\n",
    "        self.pay = pay\n",
    "        Employee.num_of_emps+=1\n",
    "        \n",
    "    def fullname(self):\n",
    "        return'{} {}'.format(self.first, self.last)     \n",
    "    \n",
    "    def __repr__(self):\n",
    "        return 'Employee({},{},{})'.format(self.first, self.last,self.pay)  \n",
    "        \n",
    "    def __str__(self):  \n",
    "        return '{}-{}'.format(self.fullname(), self.email)  \n",
    "        \n",
    "#------------->REFER ENUMLATING NUMERIC TYPES-----https://docs.python.org/3/reference/datamodel.html#special-method-names     \n",
    "    def __add__(self,other):\n",
    "        return self.pay+other.pay  # ADDITION OF TWO EMPLOYEE'S SALARY USING __add__\n",
    "    \n",
    "    \n",
    "emp_1 = Employee('supriya','shakya',500000)\n",
    "emp_2 = Employee('khushi','shakya',600000)   \n",
    "\n",
    "print(repr(emp_1))  \n",
    "print(str(emp_1))  \n",
    "print(emp_1.__repr__())\n",
    "print(emp_1+emp_2)"
   ]
  },
  {
   "cell_type": "code",
   "execution_count": null,
   "metadata": {},
   "outputs": [],
   "source": []
  }
 ],
 "metadata": {
  "kernelspec": {
   "display_name": "Python 3",
   "language": "python",
   "name": "python3"
  },
  "language_info": {
   "codemirror_mode": {
    "name": "ipython",
    "version": 3
   },
   "file_extension": ".py",
   "mimetype": "text/x-python",
   "name": "python",
   "nbconvert_exporter": "python",
   "pygments_lexer": "ipython3",
   "version": "3.7.2"
  }
 },
 "nbformat": 4,
 "nbformat_minor": 4
}
