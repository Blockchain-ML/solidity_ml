{
 "cells": [
  {
   "cell_type": "code",
   "execution_count": 23,
   "metadata": {},
   "outputs": [
    {
     "name": "stdout",
     "output_type": "stream",
     "text": [
      "{'first': 'supriya', 'last': 'shakya', 'email': 'supriya.shakya@iitp.ac.in', 'pay': 500000, 'raise_amount': 1.05}\n",
      "1.04\n",
      "1.05\n",
      "1.04\n"
     ]
    }
   ],
   "source": [
    "class Employee:\n",
    "    num_of_emps = 0\n",
    "    raise_amount = 1.04   #---CLASS VARIABLE---------->\n",
    "    def __init__(self,first,last,pay):\n",
    "        self.first = first\n",
    "        self.last = last\n",
    "        self.email = first+'.'+last+'@iitp.ac.in'\n",
    "        self.pay = pay\n",
    "        Employee.num_of_emps+=1\n",
    "        \n",
    "    def fullname(self):\n",
    "        return'{} {}'.format(self.first, self.last)  \n",
    "    \n",
    "    def apply_raise(self):\n",
    "# WHEN WE ACCESS THESE CLASS VARABLE RAISE_AMOUNT WE NEED EITHER ACCESS THEM THROUGH THE CLASS itself or INSTANCE OF THE CLASS        \n",
    "# WRONG----->self.pay = int(self.pay*raise_amount)\n",
    "      self.pay = int(self.pay * self.raise_amount)\n",
    "        \n",
    "        \n",
    "emp_1 = Employee('supriya','shakya',500000)\n",
    "emp_2 = Employee('khushi','shakya',60000)\n",
    "\n",
    "# print(emp_1.pay)\n",
    "# emp_1.apply_raise()  #IT WILL SHOW ERROR ------WHEN WE ACCESS THESE CLASS VARABLE RAISE_AMOUNT\n",
    "# #WE NEED EITHER ACCESS THEM THROUGH THE CLASS itself or INSTANCE OF THE CLASS\n",
    "# print(emp_1.pay)\n",
    "\n",
    "# Employee.raise_amount = 1.05  #changing in the raise amount for the class and all of the instances i.e all empoyees by using class Employee\n",
    "emp_1.raise_amount = 1.05    #only change in the raise amount for emp_1\n",
    "print(emp_1.__dict__)\n",
    "print(Employee.raise_amount)\n",
    "print(emp_1.raise_amount)\n",
    "print(emp_2.raise_amount)"
   ]
  },
  {
   "cell_type": "code",
   "execution_count": 24,
   "metadata": {},
   "outputs": [
    {
     "name": "stdout",
     "output_type": "stream",
     "text": [
      "2\n"
     ]
    }
   ],
   "source": [
    "print(Employee.num_of_emps)"
   ]
  },
  {
   "cell_type": "code",
   "execution_count": null,
   "metadata": {},
   "outputs": [],
   "source": []
  }
 ],
 "metadata": {
  "kernelspec": {
   "display_name": "Python 3",
   "language": "python",
   "name": "python3"
  },
  "language_info": {
   "codemirror_mode": {
    "name": "ipython",
    "version": 3
   },
   "file_extension": ".py",
   "mimetype": "text/x-python",
   "name": "python",
   "nbconvert_exporter": "python",
   "pygments_lexer": "ipython3",
   "version": "3.7.2"
  }
 },
 "nbformat": 4,
 "nbformat_minor": 4
}
