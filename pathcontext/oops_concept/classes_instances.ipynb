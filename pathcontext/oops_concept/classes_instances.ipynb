{
 "cells": [
  {
   "cell_type": "code",
   "execution_count": 8,
   "metadata": {},
   "outputs": [
    {
     "name": "stdout",
     "output_type": "stream",
     "text": [
      "<__main__.Employee object at 0x7fe970487860>\n",
      "<__main__.Employee object at 0x7fe9704879e8>\n"
     ]
    }
   ],
   "source": [
    "class Employee:\n",
    "    pass\n",
    "emp_1 = Employee()\n",
    "emp_2 = Employee()\n",
    "\n",
    "print(emp_1)\n",
    "print(emp_2)\n"
   ]
  },
  {
   "cell_type": "code",
   "execution_count": 9,
   "metadata": {},
   "outputs": [
    {
     "name": "stdout",
     "output_type": "stream",
     "text": [
      "supriya.shakya@iitp.ac.in\n",
      "khushi.shakya@iitp.ac.in\n"
     ]
    }
   ],
   "source": [
    "# -----instances variable-----contain data that is unique in each instances\n",
    "\n",
    "emp_1.first = 'supriya'\n",
    "emp_1.last = 'shakya'\n",
    "emp_1.email = 'supriya.shakya@iitp.ac.in'\n",
    "emp_1.pay = 50000\n",
    "\n",
    "\n",
    "emp_2.first = 'khushi'\n",
    "emp_2.last = 'shakya'\n",
    "emp_2.email = 'khushi.shakya@iitp.ac.in'\n",
    "emp_2.pay = 60000\n",
    "\n",
    "print(emp_1.email)\n",
    "print(emp_2.email)"
   ]
  },
  {
   "cell_type": "code",
   "execution_count": 30,
   "metadata": {},
   "outputs": [
    {
     "name": "stdout",
     "output_type": "stream",
     "text": [
      "supriya.shakya@iitp.ac.in\n",
      "60000\n",
      "supriya shakya\n"
     ]
    }
   ],
   "source": [
    "# ----special _init_method----which is a type of constructor, when we create method within a class they recieve\n",
    "# the instance as a first argument automatically , we can get rid of the above long code data by using this init method\n",
    "\n",
    "class Employee:\n",
    "    def __init__(self,first,last,pay):\n",
    "        self.first = first\n",
    "        self.last = last\n",
    "        self.email = first+'.'+last+'@iitp.ac.in'\n",
    "        self.pay = pay\n",
    "        \n",
    "emp_1 = Employee('supriya','shakya',500000)\n",
    "emp_2 = Employee('khushi','shakya',60000)\n",
    "\n",
    "# print(emp_1)\n",
    "# print(emp_2)\n",
    "        \n",
    "print(emp_1.email)\n",
    "print(emp_2.pay)\n",
    "print('{} {}'.format(emp_1.first, emp_1.last))        "
   ]
  },
  {
   "cell_type": "code",
   "execution_count": 40,
   "metadata": {},
   "outputs": [
    {
     "name": "stdout",
     "output_type": "stream",
     "text": [
      "supriya shakya\n"
     ]
    }
   ],
   "source": [
    "class Employee:\n",
    "    def __init__(self,first,last,pay):\n",
    "        self.first = first\n",
    "        self.last = last\n",
    "        self.email = first+'.'+last+'@iitp.ac.in'\n",
    "        self.pay = pay\n",
    "        \n",
    "    def fullname(self):\n",
    "        return'{} {}'.format(self.first, self.last)  \n",
    "        \n",
    "emp_1 = Employee('supriya','shakya',500000)\n",
    "emp_2 = Employee('khushi','shakya',60000)\n",
    "\n",
    "# ----when we call the method on the class then it doesn't know what instance we are calling to run the method with?\n",
    "# so we have to explicitly define and pass the instance as self method-----\n",
    "Employee.fullname(emp_1)\n",
    "\n",
    "# ----emp_1 is an instance so it doesn't required self as argumnet in fullname-----\n",
    "print(emp_1.fullname())   "
   ]
  },
  {
   "cell_type": "code",
   "execution_count": null,
   "metadata": {},
   "outputs": [],
   "source": []
  }
 ],
 "metadata": {
  "kernelspec": {
   "display_name": "Python 3",
   "language": "python",
   "name": "python3"
  },
  "language_info": {
   "codemirror_mode": {
    "name": "ipython",
    "version": 3
   },
   "file_extension": ".py",
   "mimetype": "text/x-python",
   "name": "python",
   "nbconvert_exporter": "python",
   "pygments_lexer": "ipython3",
   "version": "3.7.2"
  }
 },
 "nbformat": 4,
 "nbformat_minor": 4
}
